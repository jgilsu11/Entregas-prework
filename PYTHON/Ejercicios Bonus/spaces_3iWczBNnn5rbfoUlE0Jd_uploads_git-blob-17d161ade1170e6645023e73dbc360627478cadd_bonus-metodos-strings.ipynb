{
 "cells": [
  {
   "cell_type": "markdown",
   "metadata": {},
   "source": [
    "<div style=\"text-align: center;\">\n",
    "  <img src=\"https://github.com/Hack-io-Data/Imagenes/blob/main/01-LogosHackio/logo_celeste@4x.png?raw=true\" alt=\"esquema\" />\n",
    "</div>"
   ]
  },
  {
   "cell_type": "markdown",
   "metadata": {},
   "source": [
    "\n",
    "#### Genera un dicionario con los nombres, apellidos y empresas de la siguinete lista de correos. \n",
    "\n",
    "Te deberá quedar un diccionario parecido al que se muestra a continuación: \n",
    "\n",
    "![resultado](https://github.com/Hack-io-Data/Imagenes/blob/main/04-Prework/Python/diccionario-bonus-strings.png?raw=true)"
   ]
  },
  {
   "cell_type": "code",
   "execution_count": 7,
   "metadata": {},
   "outputs": [
    {
     "name": "stdout",
     "output_type": "stream",
     "text": [
      "{'john.doe@tecnologiainnovadora.com': {'nombre': 'John', 'apellido': 'Doe', 'empresa': 'Tecnologiainnovadora'}, 'jane.doe@empresatecnologica.com': {'nombre': 'Jane', 'apellido': 'Doe', 'empresa': 'Empresatecnologica'}, 'jim.smith@solucionesdigitales.com': {'nombre': 'Jim', 'apellido': 'Smith', 'empresa': 'Solucionesdigitales'}, 'mary.jane@tecnologiapionera.com': {'nombre': 'Mary', 'apellido': 'Jane', 'empresa': 'Tecnologiapionera'}, 'bob.jones@innovaciontecnologica.com': {'nombre': 'Bob', 'apellido': 'Jones', 'empresa': 'Innovaciontecnologica'}, 'alice.smith@desarrollotecnologico.com': {'nombre': 'Alice', 'apellido': 'Smith', 'empresa': 'Desarrollotecnologico'}, 'tom.jones@tecnologiadinamica.com': {'nombre': 'Tom', 'apellido': 'Jones', 'empresa': 'Tecnologiadinamica'}, 'sally.jones@tecnologiamoderna.com': {'nombre': 'Sally', 'apellido': 'Jones', 'empresa': 'Tecnologiamoderna'}, 'jerry.smith@solucionestech.com': {'nombre': 'Jerry', 'apellido': 'Smith', 'empresa': 'Solucionestech'}, 'beth.jones@tecnologiavanguardista.com': {'nombre': 'Beth', 'apellido': 'Jones', 'empresa': 'Tecnologiavanguardista'}, 'john.smith@tecnologiasavanzadas.com': {'nombre': 'John', 'apellido': 'Smith', 'empresa': 'Tecnologiasavanzadas'}, 'jane.doe@empresadigital.com': {'nombre': 'Jane', 'apellido': 'Doe', 'empresa': 'Empresadigital'}, 'jim.jones@tecnologiadinamica.com': {'nombre': 'Jim', 'apellido': 'Jones', 'empresa': 'Tecnologiadinamica'}, 'mary.smith@innovaciondigital.com': {'nombre': 'Mary', 'apellido': 'Smith', 'empresa': 'Innovaciondigital'}, 'bob.doe@solucionesinformaticas.com': {'nombre': 'Bob', 'apellido': 'Doe', 'empresa': 'Solucionesinformaticas'}}\n"
     ]
    }
   ],
   "source": [
    "emails = [\"john.doe@tecnologiainnovadora.com\",\n",
    "          \"jane.doe@empresatecnologica.com\",\n",
    "          \"jim.smith@solucionesdigitales.com\",\n",
    "          \"mary.jane@tecnologiapionera.com\",\n",
    "          \"bob.jones@innovaciontecnologica.com\",\n",
    "          \"alice.smith@desarrollotecnologico.com\",\n",
    "          \"tom.jones@tecnologiadinamica.com\",\n",
    "          \"sally.jones@tecnologiamoderna.com\",\n",
    "          \"jerry.smith@solucionestech.com\",\n",
    "          \"beth.jones@tecnologiavanguardista.com\",\n",
    "          \"john.smith@tecnologiasavanzadas.com\",\n",
    "          \"jane.doe@empresadigital.com\",\n",
    "          \"jim.jones@tecnologiadinamica.com\",\n",
    "          \"mary.smith@innovaciondigital.com\",\n",
    "          \"bob.doe@solucionesinformaticas.com\"]\n",
    "datos = {}\n",
    "for email in emails:\n",
    "    nombreyempresa = email.split(\"@\")\n",
    "    nombre= nombreyempresa [0].split(\".\")[0]\n",
    "    apellido = nombreyempresa [0].split(\".\")[1]\n",
    "    empresa = nombreyempresa [1].split(\".\")[0]\n",
    "\n",
    "    datos [email] = {\n",
    "        \"nombre\": nombre.capitalize (),\n",
    "        \"apellido\": apellido.capitalize (),\n",
    "        \"empresa\": empresa.capitalize ()\n",
    "    }\n",
    "print (datos)\n"
   ]
  },
  {
   "cell_type": "code",
   "execution_count": 8,
   "metadata": {},
   "outputs": [
    {
     "name": "stdout",
     "output_type": "stream",
     "text": [
      "{'john.doe@tecnologiainnovadora.com': {'nombre': 'John', 'apellido': 'Doe', 'empresa': 'Tecnologiainnovadora'}, 'jane.doe@empresatecnologica.com': {'nombre': 'Jane', 'apellido': 'Doe', 'empresa': 'Empresatecnologica'}, 'jim.smith@solucionesdigitales.com': {'nombre': 'Jim', 'apellido': 'Smith', 'empresa': 'Solucionesdigitales'}, 'mary.jane@tecnologiapionera.com': {'nombre': 'Mary', 'apellido': 'Jane', 'empresa': 'Tecnologiapionera'}, 'bob.jones@innovaciontecnologica.com': {'nombre': 'Bob', 'apellido': 'Jones', 'empresa': 'Innovaciontecnologica'}, 'alice.smith@desarrollotecnologico.com': {'nombre': 'Alice', 'apellido': 'Smith', 'empresa': 'Desarrollotecnologico'}, 'tom.jones@tecnologiadinamica.com': {'nombre': 'Tom', 'apellido': 'Jones', 'empresa': 'Tecnologiadinamica'}, 'sally.jones@tecnologiamoderna.com': {'nombre': 'Sally', 'apellido': 'Jones', 'empresa': 'Tecnologiamoderna'}, 'jerry.smith@solucionestech.com': {'nombre': 'Jerry', 'apellido': 'Smith', 'empresa': 'Solucionestech'}, 'beth.jones@tecnologiavanguardista.com': {'nombre': 'Beth', 'apellido': 'Jones', 'empresa': 'Tecnologiavanguardista'}, 'john.smith@tecnologiasavanzadas.com': {'nombre': 'John', 'apellido': 'Smith', 'empresa': 'Tecnologiasavanzadas'}, 'jane.doe@empresadigital.com': {'nombre': 'Jane', 'apellido': 'Doe', 'empresa': 'Empresadigital'}, 'jim.jones@tecnologiadinamica.com': {'nombre': 'Jim', 'apellido': 'Jones', 'empresa': 'Tecnologiadinamica'}, 'mary.smith@innovaciondigital.com': {'nombre': 'Mary', 'apellido': 'Smith', 'empresa': 'Innovaciondigital'}, 'bob.doe@solucionesinformaticas.com': {'nombre': 'Bob', 'apellido': 'Doe', 'empresa': 'Solucionesinformaticas'}}\n"
     ]
    }
   ],
   "source": [
    "emails = [\"john.doe@tecnologiainnovadora.com\",\n",
    "          \"jane.doe@empresatecnologica.com\",\n",
    "          \"jim.smith@solucionesdigitales.com\",\n",
    "          \"mary.jane@tecnologiapionera.com\",\n",
    "          \"bob.jones@innovaciontecnologica.com\",\n",
    "          \"alice.smith@desarrollotecnologico.com\",\n",
    "          \"tom.jones@tecnologiadinamica.com\",\n",
    "          \"sally.jones@tecnologiamoderna.com\",\n",
    "          \"jerry.smith@solucionestech.com\",\n",
    "          \"beth.jones@tecnologiavanguardista.com\",\n",
    "          \"john.smith@tecnologiasavanzadas.com\",\n",
    "          \"jane.doe@empresadigital.com\",\n",
    "          \"jim.jones@tecnologiadinamica.com\",\n",
    "          \"mary.smith@innovaciondigital.com\",\n",
    "          \"bob.doe@solucionesinformaticas.com\"]\n",
    "datos = {}\n",
    "for email in emails:\n",
    "    nombreyempresa = email.split(\"@\")\n",
    "    nombre_completo= nombreyempresa [0]\n",
    "    empresa = nombreyempresa [1].split(\".\")[0]\n",
    "    nombre, apellido = nombre_completo.split(\".\")\n",
    "\n",
    "\n",
    "    datos [email] = {\n",
    "        \"nombre\": nombre.capitalize (),\n",
    "        \"apellido\": apellido.capitalize (),\n",
    "        \"empresa\": empresa.capitalize ()\n",
    "    }\n",
    "print (datos)"
   ]
  }
 ],
 "metadata": {
  "kernelspec": {
   "display_name": "hackio",
   "language": "python",
   "name": "python3"
  },
  "language_info": {
   "codemirror_mode": {
    "name": "ipython",
    "version": 3
   },
   "file_extension": ".py",
   "mimetype": "text/x-python",
   "name": "python",
   "nbconvert_exporter": "python",
   "pygments_lexer": "ipython3",
   "version": "3.11.9"
  }
 },
 "nbformat": 4,
 "nbformat_minor": 2
}
