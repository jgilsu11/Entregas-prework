{
 "cells": [
  {
   "cell_type": "markdown",
   "metadata": {},
   "source": [
    "<div style=\"text-align: center;\">\n",
    "  <img src=\"https://github.com/Hack-io-Data/Imagenes/blob/main/01-LogosHackio/logo_celeste@4x.png?raw=true\" alt=\"esquema\" />\n",
    "</div>\n"
   ]
  },
  {
   "cell_type": "markdown",
   "metadata": {},
   "source": [
    "# Ejercicio cTangana\n",
    "\n",
    "En este ejercicio tiene como objetivo principal que practiques y domines varias habilidades en Python, como la manipulación de *strings*, el uso de estructuras de datos como listas y diccionarios, y la implementación de técnicas básicas de conteo y ordenamiento. Los pasos que deberéis seguir para realizar este ejercicio son: \n",
    "\n",
    "1. Busca la letra de C. Tangana, Andrés Calamaro - Hong Kong y almacenala como una cadena de strings en `letra_cancion`.\n",
    "\n",
    "2. Crea una lista `palabras` utilizando `letra_cancion`.\n",
    "\n",
    "3. Crea un diccionario `frecuencia_palabras` en el que aparezca como claves cada una de las palabras de `letra_cancion` y sus valores que sea el numero de ocurrencia\n",
    "\n",
    "4. Ordena alfabeticamente las claves de `frecuencia_palabras` \n",
    "\n",
    "5. Crea un nuevo diccionario llamado `frecuencia_palabras2` con el orden obtenido en la pregunta 4.\n",
    "\n",
    "6. Ordenar los valores de `frecuencia_palabras2` de forma ascendente.\n",
    "\n",
    "***HINT***: Ordenar los valores de un diccionario es más complicado que ordenar las claves porque los valores de un diccionario no son únicos. Por lo tanto, no puedes usar la misma forma en que ordenaste las claves del diccionario para ordenar los valores del diccionario. La forma de ordenar un diccionario por valor es utilizar las funciones sorted y operator.itemgetter. \n"
   ]
  },
  {
   "cell_type": "code",
   "execution_count": 5,
   "metadata": {},
   "outputs": [
    {
     "name": "stdout",
     "output_type": "stream",
     "text": [
      "\n",
      "Oh-oh-oh-oh, Hong Kong, Hong Kong\n",
      "Oh-oh-oh-oh, Hong Kong, Hong Kong\n",
      "Oh-oh-oh-oh, Hong Kong, Hong Kong\n",
      "Oh-oh-oh-oh, Hong Kong, Hong Kong\n",
      "Mami, ven aquí\n",
      "Tú sabes que soy para ti\n",
      "No me dejes solo, ando bien borracho\n",
      "Y a este paso voy directo a un tajo\n",
      "Mami, ven aquí\n",
      "Tú sabes que soy para ti\n",
      "No me dejes solo, ando bien borracho\n",
      "Y a este paso voy directo a un tajo\n",
      "Café y cigarro pa' ti\n",
      "Te espero en bata, mami\n",
      "Hoy no me importa si soy un mierda\n",
      "Pero esta noche estoy pa' ti\n",
      "Oh-oh-oh-oh, Hong Kong, Hong Kong\n",
      "Oh-oh-oh-oh, Hong Kong, Hong Kong\n",
      "Oh-oh-oh-oh, Hong Kong, Hong Kong\n",
      "Oh-oh-oh-oh, Hong Kong, Hong Kong\n",
      "\n",
      "['Oh-oh-oh-oh,', 'Hong', 'Kong,', 'Hong', 'Kong', 'Oh-oh-oh-oh,', 'Hong', 'Kong,', 'Hong', 'Kong', 'Oh-oh-oh-oh,', 'Hong', 'Kong,', 'Hong', 'Kong', 'Oh-oh-oh-oh,', 'Hong', 'Kong,', 'Hong', 'Kong', 'Mami,', 'ven', 'aquí', 'Tú', 'sabes', 'que', 'soy', 'para', 'ti', 'No', 'me', 'dejes', 'solo,', 'ando', 'bien', 'borracho', 'Y', 'a', 'este', 'paso', 'voy', 'directo', 'a', 'un', 'tajo', 'Mami,', 'ven', 'aquí', 'Tú', 'sabes', 'que', 'soy', 'para', 'ti', 'No', 'me', 'dejes', 'solo,', 'ando', 'bien', 'borracho', 'Y', 'a', 'este', 'paso', 'voy', 'directo', 'a', 'un', 'tajo', 'Café', 'y', 'cigarro', \"pa'\", 'ti', 'Te', 'espero', 'en', 'bata,', 'mami', 'Hoy', 'no', 'me', 'importa', 'si', 'soy', 'un', 'mierda', 'Pero', 'esta', 'noche', 'estoy', \"pa'\", 'ti', 'Oh-oh-oh-oh,', 'Hong', 'Kong,', 'Hong', 'Kong', 'Oh-oh-oh-oh,', 'Hong', 'Kong,', 'Hong', 'Kong', 'Oh-oh-oh-oh,', 'Hong', 'Kong,', 'Hong', 'Kong', 'Oh-oh-oh-oh,', 'Hong', 'Kong,', 'Hong', 'Kong']\n",
      "defaultdict(<class 'int'>, {'Oh-oh-oh-oh,': 8, 'Hong': 16, 'Kong,': 8, 'Kong': 8, 'Mami,': 2, 'ven': 2, 'aquí': 2, 'Tú': 2, 'sabes': 2, 'que': 2, 'soy': 3, 'para': 2, 'ti': 4, 'No': 2, 'me': 3, 'dejes': 2, 'solo,': 2, 'ando': 2, 'bien': 2, 'borracho': 2, 'Y': 2, 'a': 4, 'este': 2, 'paso': 2, 'voy': 2, 'directo': 2, 'un': 3, 'tajo': 2, 'Café': 1, 'y': 1, 'cigarro': 1, \"pa'\": 2, 'Te': 1, 'espero': 1, 'en': 1, 'bata,': 1, 'mami': 1, 'Hoy': 1, 'no': 1, 'importa': 1, 'si': 1, 'mierda': 1, 'Pero': 1, 'esta': 1, 'noche': 1, 'estoy': 1})\n",
      "['Café', 'Hong', 'Hoy', 'Kong', 'Kong,', 'Mami,', 'No', 'Oh-oh-oh-oh,', 'Pero', 'Te', 'Tú', 'Y', 'a', 'ando', 'aquí', 'bata,', 'bien', 'borracho', 'cigarro', 'dejes', 'directo', 'en', 'espero', 'esta', 'este', 'estoy', 'importa', 'mami', 'me', 'mierda', 'no', 'noche', \"pa'\", 'para', 'paso', 'que', 'sabes', 'si', 'solo,', 'soy', 'tajo', 'ti', 'un', 'ven', 'voy', 'y']\n",
      "{'Café': 1, 'Hong': 16, 'Hoy': 1, 'Kong': 8, 'Kong,': 8, 'Mami,': 2, 'No': 2, 'Oh-oh-oh-oh,': 8, 'Pero': 1, 'Te': 1, 'Tú': 2, 'Y': 2, 'a': 4, 'ando': 2, 'aquí': 2, 'bata,': 1, 'bien': 2, 'borracho': 2, 'cigarro': 1, 'dejes': 2, 'directo': 2, 'en': 1, 'espero': 1, 'esta': 1, 'este': 2, 'estoy': 1, 'importa': 1, 'mami': 1, 'me': 3, 'mierda': 1, 'no': 1, 'noche': 1, \"pa'\": 2, 'para': 2, 'paso': 2, 'que': 2, 'sabes': 2, 'si': 1, 'solo,': 2, 'soy': 3, 'tajo': 2, 'ti': 4, 'un': 3, 'ven': 2, 'voy': 2, 'y': 1}\n",
      "[('Café', 1), ('Hoy', 1), ('Pero', 1), ('Te', 1), ('bata,', 1), ('cigarro', 1), ('en', 1), ('espero', 1), ('esta', 1), ('estoy', 1), ('importa', 1), ('mami', 1), ('mierda', 1), ('no', 1), ('noche', 1), ('si', 1), ('y', 1), ('Mami,', 2), ('No', 2), ('Tú', 2), ('Y', 2), ('ando', 2), ('aquí', 2), ('bien', 2), ('borracho', 2), ('dejes', 2), ('directo', 2), ('este', 2), (\"pa'\", 2), ('para', 2), ('paso', 2), ('que', 2), ('sabes', 2), ('solo,', 2), ('tajo', 2), ('ven', 2), ('voy', 2), ('me', 3), ('soy', 3), ('un', 3), ('a', 4), ('ti', 4), ('Kong', 8), ('Kong,', 8), ('Oh-oh-oh-oh,', 8), ('Hong', 16)]\n"
     ]
    }
   ],
   "source": [
    "letra_cancion = \"\"\"\n",
    "Oh-oh-oh-oh, Hong Kong, Hong Kong\n",
    "Oh-oh-oh-oh, Hong Kong, Hong Kong\n",
    "Oh-oh-oh-oh, Hong Kong, Hong Kong\n",
    "Oh-oh-oh-oh, Hong Kong, Hong Kong\n",
    "Mami, ven aquí\n",
    "Tú sabes que soy para ti\n",
    "No me dejes solo, ando bien borracho\n",
    "Y a este paso voy directo a un tajo\n",
    "Mami, ven aquí\n",
    "Tú sabes que soy para ti\n",
    "No me dejes solo, ando bien borracho\n",
    "Y a este paso voy directo a un tajo\n",
    "Café y cigarro pa' ti\n",
    "Te espero en bata, mami\n",
    "Hoy no me importa si soy un mierda\n",
    "Pero esta noche estoy pa' ti\n",
    "Oh-oh-oh-oh, Hong Kong, Hong Kong\n",
    "Oh-oh-oh-oh, Hong Kong, Hong Kong\n",
    "Oh-oh-oh-oh, Hong Kong, Hong Kong\n",
    "Oh-oh-oh-oh, Hong Kong, Hong Kong\n",
    "\"\"\"\n",
    "palabras = list(letra_cancion.split())\n",
    "from collections import defaultdict\n",
    "\n",
    "frecuencia_palabras = defaultdict(int)\n",
    "\n",
    "for palabra in palabras:\n",
    "    frecuencia_palabras[palabra] += 1\n",
    "\n",
    "claves_ordenadas = sorted (frecuencia_palabras.keys())\n",
    "\n",
    "frecuencia_palabras2 = {keys: frecuencia_palabras[keys] for keys in claves_ordenadas}\n",
    "import operator\n",
    "frecuencia_ordenada_valores = sorted (frecuencia_palabras2.items(), key=operator.itemgetter(1))\n",
    "# Esta ultima linea lo que hace es que sorted ordena por defecto en orden ascendente. los items son los pares clave-valor convertidos a tuplas y el operator.itemgetter te coge el elemento de esa dupla especificado por el indice \"0\" si te interesa la primera parte (clave) o \"1\" si te interesa la segunda parte (valor)  \n",
    "\n",
    "print (letra_cancion)\n",
    "print (palabras)\n",
    "print (frecuencia_palabras)\n",
    "print (claves_ordenadas)\n",
    "print (frecuencia_palabras2)\n",
    "print (frecuencia_ordenada_valores)\n"
   ]
  }
 ],
 "metadata": {
  "kernelspec": {
   "display_name": "Python 3",
   "language": "python",
   "name": "python3"
  },
  "language_info": {
   "codemirror_mode": {
    "name": "ipython",
    "version": 3
   },
   "file_extension": ".py",
   "mimetype": "text/x-python",
   "name": "python",
   "nbconvert_exporter": "python",
   "pygments_lexer": "ipython3",
   "version": "3.11.9"
  }
 },
 "nbformat": 4,
 "nbformat_minor": 2
}
