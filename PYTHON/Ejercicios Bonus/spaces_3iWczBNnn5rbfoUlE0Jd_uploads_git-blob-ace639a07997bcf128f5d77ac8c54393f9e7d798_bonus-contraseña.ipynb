{
 "cells": [
  {
   "cell_type": "markdown",
   "metadata": {},
   "source": [
    "<div style=\"text-align: center;\">\n",
    "  <img src=\"https://github.com/Hack-io-Data/Imagenes/blob/main/01-LogosHackio/logo_celeste@4x.png?raw=true\" alt=\"esquema\" />\n",
    "</div>\n"
   ]
  },
  {
   "cell_type": "markdown",
   "metadata": {},
   "source": [
    "# Comprobación de calidad de contraseñas\n",
    "\n",
    "En este ejercicio, tendrás que generar un programa que sea capaz de comprobar la calidad de contraseñas. La seguridad de nuestras contraseñas es fundamental para proteger nuestra información personal y evitar posibles ataques cibernéticos. Para ello, vamos a crear una función llamada `verificar_seguridad_contrasena` que evaluará la calidad de una contraseña. Esta función tomará como argumento la contraseña a evaluar y devolverá si la contraseña es segura o no basado en los siguientes criterios:\n",
    "\n",
    "1. La contraseña deberá tener al menos 8 caracteres.\n",
    "\n",
    "2. La contraseña deberá tener al menos una letra mayúscula.\n",
    "\n",
    "3. La contraseña deberá tener al menos una letra minúscula. \n",
    "\n",
    "4. La contraseña deberá tener al menos un número. \n",
    "\n",
    "5. La contraseña deberá tener al menos un caracter especial. \n",
    "\n",
    "6. La contraseña no deberá tener espacios en blanco. \n",
    "\n",
    "7. La contraseña no deberá tener caracteres repetidos. \n"
   ]
  },
  {
   "cell_type": "code",
   "execution_count": 2,
   "metadata": {},
   "outputs": [
    {
     "name": "stdout",
     "output_type": "stream",
     "text": [
      "La contraseña tiene que tener al menos 8 caracteres para ser segura\n",
      "La contraseña debe tener al menos un número.\n",
      "La contraseña es segura.\n"
     ]
    }
   ],
   "source": [
    "import re\n",
    "def verificar_seguridad_contraseña (contraseña):\n",
    "    if len(contraseña) < 8:\n",
    "        return \"La contraseña tiene que tener al menos 8 caracteres para ser segura\"\n",
    "    if not re.search(r\"[A-Z]\", contraseña):\n",
    "        return \"La contraseña debe tener al menos una letra mayúscula.\"\n",
    "    if not re.search(r\"[a-z]\", contraseña):\n",
    "        return \"La contraseña debe tener al menos una letra minúscula.\"\n",
    "    if not re.search(r\"[0-9]\", contraseña):\n",
    "        return \"La contraseña debe tener al menos un número.\"\n",
    "    if not re.search(r\"[!@#$%^&*(),.?':{}|<>]\", contraseña):\n",
    "        return \"La contraseña debe tener al menos un carácter especial.\"\n",
    "    if re.search(r\"\\s\", contraseña):\n",
    "        return \"La contraseña no debe tener espacios en blanco.\"\n",
    "    if len(set(contraseña)) != len(contraseña):\n",
    "        return \"La contraseña no debe tener caracteres repetidos.\"\n",
    "    return \"La contraseña es segura.\"\n",
    "\n",
    "print(verificar_seguridad_contraseña(\"Contr@1\"))  \n",
    "print(verificar_seguridad_contraseña(\"Contraseña\"))  \n",
    "print(verificar_seguridad_contraseña(\"Contraseñ@1\")) \n",
    "\n",
    "\n",
    "        \n"
   ]
  }
 ],
 "metadata": {
  "kernelspec": {
   "display_name": "hackio",
   "language": "python",
   "name": "python3"
  },
  "language_info": {
   "codemirror_mode": {
    "name": "ipython",
    "version": 3
   },
   "file_extension": ".py",
   "mimetype": "text/x-python",
   "name": "python",
   "nbconvert_exporter": "python",
   "pygments_lexer": "ipython3",
   "version": "3.11.9"
  }
 },
 "nbformat": 4,
 "nbformat_minor": 2
}
