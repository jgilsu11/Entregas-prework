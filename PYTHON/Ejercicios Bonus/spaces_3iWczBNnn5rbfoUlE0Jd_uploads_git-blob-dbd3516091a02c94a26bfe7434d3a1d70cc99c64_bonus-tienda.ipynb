{
 "cells": [
  {
   "cell_type": "markdown",
   "metadata": {},
   "source": [
    "<div style=\"text-align: center;\">\n",
    "  <img src=\"https://github.com/Hack-io-Data/Imagenes/blob/main/01-LogosHackio/logo_celeste@4x.png?raw=true\" alt=\"esquema\" />\n",
    "</div>\n"
   ]
  },
  {
   "cell_type": "markdown",
   "metadata": {},
   "source": [
    "En este ejercicio, se te pedirá que escribas un programa en Python que utilice condicionales para determinar el monto final de una compra en una tienda en línea, después de aplicar un descuento. El programa debe hacer lo siguiente:\n",
    "\n",
    "1. Solicita al usuario que ingrese el precio original de un artículo.\n",
    "\n",
    "2. Pregunta al usuario si tiene un cupón de descuento (respuesta sí o no).\n",
    "\n",
    "3. Si el usuario responde que sí, solicita que ingrese el valor del cupón de descuento.\n",
    "\n",
    "4. Aplica el descuento al precio original del artículo, siempre y cuando el valor del cupón sea válido (es decir, mayor a cero). Por ejemplo, descuento de 15€. \n",
    "\n",
    "5. Muestra el precio final de la compra, teniendo en cuenta el descuento aplicado o sin él. \n",
    "\n",
    "6. Recuerda utilizar estructuras de control de flujo como if, elif y else para llevar a cabo estas acciones en tu programa de Python."
   ]
  },
  {
   "cell_type": "code",
   "execution_count": 2,
   "metadata": {},
   "outputs": [
    {
     "name": "stdout",
     "output_type": "stream",
     "text": [
      "El precio final a pagar es de 79.5€\n"
     ]
    }
   ],
   "source": [
    "precio = float(input(\"Ingrese el precio original del árticulo: \"))\n",
    "tiene_cupon = input(\"¿Tiene algún cupón de descuento?(si o no): \").strip().lower()\n",
    "if tiene_cupon ==\"si\":\n",
    "    valor_cupon = float(input(\"Introduce el valor del descuento: \"))\n",
    "    if valor_cupon > 0 :\n",
    "        precio_nuevo = precio - valor_cupon\n",
    "        print (f\"El precio final a pagar es de {precio_nuevo}€\")\n",
    "else:\n",
    "    print (f\"El precio final a pagar es de {precio}€\")"
   ]
  },
  {
   "cell_type": "markdown",
   "metadata": {},
   "source": [
    "Modifica el programa anterior para que el usuario ingrese un porcentaje de descuento en lugar de un valor fijo (por ejemplo, 30%). Aplica el descuento en base al porcentaje ingresado."
   ]
  },
  {
   "cell_type": "code",
   "execution_count": 3,
   "metadata": {},
   "outputs": [
    {
     "name": "stdout",
     "output_type": "stream",
     "text": [
      "El precio final a pagar es de 140.0€\n"
     ]
    }
   ],
   "source": [
    "precio = float(input(\"Ingrese el precio original del árticulo: \"))\n",
    "tiene_cupon = input(\"¿Tiene algún cupón de descuento?(si o no): \").strip().lower()\n",
    "if tiene_cupon ==\"si\":\n",
    "    valor_cupon = float(input(\"Introduce el valor del descuento en porcentaje: \"))\n",
    "    if valor_cupon > 0 :\n",
    "        precio_nuevo = precio - ((precio * valor_cupon)/100)\n",
    "        print (f\"El precio final a pagar es de {precio_nuevo}€\")\n",
    "else:\n",
    "    print (f\"El precio final a pagar es de {precio}€\")"
   ]
  },
  {
   "cell_type": "markdown",
   "metadata": {},
   "source": [
    "Modifica el programa anterior agregando un límite al descuento, donde el descuento mínimo sea del 5% y el máximo del 50%. Si el usuario ingresa un porcentaje fuera de este rango, notifíquele y aplique el descuento mínimo o máximo según sea el caso."
   ]
  },
  {
   "cell_type": "code",
   "execution_count": 7,
   "metadata": {},
   "outputs": [
    {
     "name": "stdout",
     "output_type": "stream",
     "text": [
      "El valor de decuento introducido no es válido por estar fuera de rango, en su lugar se ha aplicado el mínimo de 5%\n",
      "El precio final a pagar es de 190.0€\n"
     ]
    }
   ],
   "source": [
    "precio = float(input(\"Ingrese el precio original del árticulo: \"))\n",
    "tiene_cupon = input(\"¿Tiene algún cupón de descuento?(si o no): \").strip().lower()\n",
    "if tiene_cupon ==\"si\":\n",
    "    valor_cupon = float(input(\"Introduce el valor del descuento en porcentaje entre el 5 y el 50: \"))\n",
    "    if valor_cupon > 0 and 5 <= valor_cupon <=50:\n",
    "        precio_nuevo = precio - ((precio * valor_cupon)/100)\n",
    "        print (f\"El precio final a pagar es de {precio_nuevo}€\")\n",
    "    elif valor_cupon < 5 :\n",
    "        print (\"El valor de decuento introducido no es válido por estar fuera de rango, en su lugar se ha aplicado el mínimo de 5%\")\n",
    "        precio_min = precio - ((precio * 5)/100)\n",
    "        print (f\"El precio final a pagar es de {precio_min}€\")\n",
    "    else:\n",
    "        print (\"El valor de decuento introducido no es válido por estar fuera de rango, en su lugar se ha aplicado el máximo de 50%\")\n",
    "        precio_max = precio - ((precio * 50)/100)\n",
    "        print (f\"El precio final a pagar es de {precio_max}€\")\n",
    "else:\n",
    "    print (f\"El precio final a pagar es de {precio}€\")"
   ]
  },
  {
   "cell_type": "markdown",
   "metadata": {},
   "source": [
    "Crea un programa nuevo que permita al usuario ingresar varios artículos, cada uno con su precio original y cupón de descuento. Aplica los descuentos correspondientes a cada producto y muestra el monto total final de la compra."
   ]
  },
  {
   "cell_type": "code",
   "execution_count": 12,
   "metadata": {},
   "outputs": [
    {
     "name": "stdout",
     "output_type": "stream",
     "text": [
      "El total de su compra asciende a 280.00€\n"
     ]
    }
   ],
   "source": [
    "compra_total = 0\n",
    "continuar = \"si\"\n",
    "while continuar == \"si\":\n",
    "    precio_original = float(input(\"Ingresa el precio original del artículo: \"))\n",
    "    tiene_cupon = input(\"¿Tienes un cupón de descuento? (si o no): \").strip().lower()\n",
    "    if tiene_cupon == \"si\":\n",
    "        valor_cupon = float(input(\"Ingresa el valor del cupón de descuento: \"))\n",
    "        if valor_cupon > 0:\n",
    "            nuevo_precio = precio_original - valor_cupon\n",
    "        else:\n",
    "            nuevo_precio = precio_original\n",
    "    else:\n",
    "        nuevo_precio = precio_original\n",
    "    compra_total += nuevo_precio\n",
    "    continuar = input(\"¿Desea continuar comprando? (si o no)\").strip().lower()\n",
    "print (f\"El total de su compra asciende a {compra_total:.2f}€\")"
   ]
  },
  {
   "cell_type": "markdown",
   "metadata": {},
   "source": [
    "Crea un nuevo programa que permita aplicar descuentos por categorías. En este caso, nuestra tienda aplicará descuentos en función de la categoría (por ejemplo, electrónica, ropa, juguetes). Pregunta al usuario a que categoría pertenece su producto y aplica el descuento correspondiente a la categoría. Debes solicitar al usuario que ingrese la categoría del articulo y el precio para aplicarle el descuento. "
   ]
  },
  {
   "cell_type": "code",
   "execution_count": 16,
   "metadata": {},
   "outputs": [
    {
     "name": "stdout",
     "output_type": "stream",
     "text": [
      "La categoria flor no es válida, elija entre electronica, juguetes y ropa\n"
     ]
    }
   ],
   "source": [
    "precio = float(input(\"Ingrese el precio original del árticulo: \"))\n",
    "categoria = input(\"¿De que categoria es el articulo?(electronica, juguestes o ropa): \").strip().lower()\n",
    "if categoria == \"electronica\":\n",
    "    precio_nuevo = precio - 25\n",
    "    print (f\"El precio final a pagar es de {precio_nuevo}€\")\n",
    "elif categoria == \"juguetes\":\n",
    "    precio_nuevo = precio - 10\n",
    "    print (f\"El precio final a pagar es de {precio_nuevo}€\")\n",
    "elif categoria == \"ropa\":\n",
    "    precio_nuevo = precio - 5\n",
    "    print (f\"El precio final a pagar es de {precio_nuevo}€\")\n",
    "else:\n",
    "    print (f\"La categoria {categoria} no es válida, elija entre electronica, juguetes y ropa\")"
   ]
  },
  {
   "cell_type": "markdown",
   "metadata": {},
   "source": [
    "Crea un nuevo programa que aplique descuentos automáticos en función de la fecha actual. Aplica un descuento del 10% en compras realizadas entre lunes y viernes o un descuento del 15% en compras realizadas durante los fines de semana."
   ]
  },
  {
   "cell_type": "code",
   "execution_count": 19,
   "metadata": {},
   "outputs": [
    {
     "name": "stdout",
     "output_type": "stream",
     "text": [
      "Fecha actual: 2024-08-24\n",
      "Día de la semana: Saturday\n",
      "Descuento aplicado: 15%\n",
      "Precio original: 100.00€\n",
      "Precio con descuento: 85.00€\n"
     ]
    }
   ],
   "source": [
    "from datetime import datetime\n",
    "def obtener_descuento(dia_semana):\n",
    "    \"\"\"Devuelve el porcentaje de descuento basado en el día de la semana.\"\"\"\n",
    "    if dia_semana in [0, 1, 2, 3, 4]: \n",
    "        return 0.10 \n",
    "    else:  \n",
    "        return 0.15  \n",
    "def main():\n",
    "    fecha_actual = datetime.now()\n",
    "    dia_semana = fecha_actual.weekday()  \n",
    "    precio_original = float(input(\"Ingresa el precio original del artículo: \"))\n",
    "    descuento = obtener_descuento(dia_semana)\n",
    "    descuento_aplicado = precio_original * descuento\n",
    "    precio_final = precio_original - descuento_aplicado\n",
    "    print(f\"Fecha actual: {fecha_actual.strftime('%Y-%m-%d')}\")\n",
    "    print(f\"Día de la semana: {fecha_actual.strftime('%A')}\")\n",
    "    print(f\"Descuento aplicado: {descuento * 100:.0f}%\")\n",
    "    print(f\"Precio original: {precio_original:.2f}€\")\n",
    "    print(f\"Precio con descuento: {precio_final:.2f}€\")\n",
    "main()\n",
    "# Usé chat porque no sabía como hcaer para poner formato fecha ni que cogiera la fecha de hoy\n"
   ]
  },
  {
   "cell_type": "markdown",
   "metadata": {},
   "source": [
    "Crea un programa nuevo que implemente un sistema de membresía donde los usuarios registrados obtengan un descuento adicional del 5%. Solicita al usuario que ingrese su nombre de usuario y contraseña para verificar su membresía y aplique el descuento adicional si corresponde. \n",
    "\n",
    "📝 Nota: Para este ejercicio solo tendremos un usuario registrado. El usuario es `USUARIO` y la contraseña es  `USUARIO123`. \n"
   ]
  },
  {
   "cell_type": "code",
   "execution_count": 41,
   "metadata": {},
   "outputs": [
    {
     "name": "stdout",
     "output_type": "stream",
     "text": [
      "Gracias a su membresía y descuento, su precio final ha pasado de 100.00€ a 47.50€\n"
     ]
    }
   ],
   "source": [
    "\n",
    "precio = float(input(\"Ingrese el precio original del árticulo: \"))\n",
    "tiene_cupon = input(\"¿Tiene algún cupón de descuento?(si o no): \").strip().lower()\n",
    "membresia = input(\"Eres miembro registrado? (si o no): \").strip().lower()\n",
    "if tiene_cupon ==\"si\" and membresia ==\"si\":\n",
    "    valor_cupon = float(input(\"Introduce el valor del descuento en porcentaje: \"))\n",
    "    if valor_cupon > 0 :\n",
    "        precio_nuevo = precio - ((precio * valor_cupon)/100)\n",
    "        usuario = input(\"Ingrese su usuario: \")\n",
    "        contraseña =input(\"Ingrese su contraseña: \")\n",
    "        while usuario != \"USUARIO\" or contraseña != \"USUARIO123\":\n",
    "            print (\"El usuario y/o contraseña no son correctos\")\n",
    "            usuario = input(\"Ingrese su usuario: \")\n",
    "            contraseña =input(\"Ingrese su contraseña: \")\n",
    "        precio_miembro_descuento = precio_nuevo - (precio_nuevo * 0.05)\n",
    "        print (f\"Gracias a su membresía y descuento, su precio final ha pasado de {precio:.2f}€ a {precio_miembro_descuento:.2f}€\")\n",
    "    else:\n",
    "        precio_miembro0 = precio - (precio * 0.05)\n",
    "        print (f\"Gracias a su membresía, su precio final ha pasado de {precio:.2f}€ a {precio_miembro0:.2f}€\")\n",
    "elif tiene_cupon ==\"si\":\n",
    "    valor_cupon = float(input(\"Introduce el valor del descuento en porcentaje: \"))\n",
    "    if valor_cupon > 0 :\n",
    "        precio_nuevo = precio - ((precio * valor_cupon)/100)\n",
    "        print (f\"Gracias a su descuento, su precio final ha pasado de {precio:.2f}€ a {precio_nuevo:.2f}€\")\n",
    "elif membresia ==\"si\" and tiene_cupon == \"no\":\n",
    "    usuario = input(\"Ingrese su usuario: \")\n",
    "    contraseña =input(\"Ingrese su contraseña: \")\n",
    "    while usuario != \"USUARIO\" or contraseña != \"USUARIO123\":\n",
    "        print (\"El usuario y/o contraseña no son correctos\")\n",
    "        usuario = input(\"Ingrese su usuario: \")\n",
    "        contraseña =input(\"Ingrese su contraseña: \")\n",
    "    precio_miembro = precio - (precio * 0.05)\n",
    "    print (f\"Gracias a su membresía , su precio final ha pasado de {precio:.2f}€ a {precio_miembro:.2f}€\")\n",
    "else:\n",
    "    print (f\"su precio final es de {precio:.2f}€\")"
   ]
  },
  {
   "cell_type": "markdown",
   "metadata": {},
   "source": [
    "Crea un nuevo programa que ofrezca un descuento del 10% adicional si el usuario compra más de 5 artículos del mismo tipo. Debes verificar la cantidad de productos comprados y aplicar el descuento adicional si corresponde.\n"
   ]
  },
  {
   "cell_type": "code",
   "execution_count": 1,
   "metadata": {},
   "outputs": [
    {
     "name": "stdout",
     "output_type": "stream",
     "text": [
      "El total de su compra asciende a 196.65€\n"
     ]
    }
   ],
   "source": [
    "from collections import defaultdict\n",
    "\n",
    "def aplicar_descuento(compra_total, descuento):\n",
    "    return compra_total - (compra_total * descuento)\n",
    "def main():\n",
    "    compra_total = 0\n",
    "    tipos_count = defaultdict(int)\n",
    "    continuar = \"si\"\n",
    "    while continuar == \"si\":\n",
    "        precio_original = float(input(\"Ingresa el precio original del artículo: \"))\n",
    "        tipo = input(\"¿De qué tipo es el artículo? (electrónica, juguetes o ropa): \").strip().lower()\n",
    "        tiene_cupon = input(\"¿Tienes un cupón de descuento? (si o no): \").strip().lower()\n",
    "        if tiene_cupon == \"si\":\n",
    "            valor_cupon = float(input(\"Ingresa el valor del cupón de descuento: \"))\n",
    "            if valor_cupon > 0:\n",
    "                nuevo_precio = precio_original - valor_cupon\n",
    "            else:\n",
    "                nuevo_precio = precio_original\n",
    "        else:\n",
    "            nuevo_precio = precio_original\n",
    "        \n",
    "        compra_total += nuevo_precio\n",
    "        tipos_count[tipo] += 1\n",
    "        \n",
    "        continuar = input(\"¿Desea continuar comprando? (si o no): \").strip().lower()\n",
    "    descuento_adicional = 0\n",
    "    for tipo, count in tipos_count.items():\n",
    "        if count > 5:\n",
    "            descuento_adicional = 0.10  \n",
    "            break \n",
    "    compra_total_con_descuento_adicional = aplicar_descuento(compra_total, descuento_adicional)\n",
    "    print(f\"El total de su compra asciende a {compra_total_con_descuento_adicional:.2f}€\")\n",
    "main()\n"
   ]
  },
  {
   "cell_type": "markdown",
   "metadata": {},
   "source": [
    "Crea un nuevo programa que ofrezca descuentos progresivos en función del volumen de compra. Aplica un descuento del 5% para compras entre 100€ y 200€, un descuento del 10% para compras entre 200€ y 500€ y un descuento del 15% para compras superiores a 500€."
   ]
  },
  {
   "cell_type": "code",
   "execution_count": 48,
   "metadata": {},
   "outputs": [
    {
     "name": "stdout",
     "output_type": "stream",
     "text": [
      "El total de su compra asciende a 50.00€\n"
     ]
    }
   ],
   "source": [
    "compra_total = 0\n",
    "continuar = \"si\"\n",
    "while continuar == \"si\":\n",
    "    precio_original = float(input(\"Ingresa el precio original del artículo: \"))\n",
    "    tiene_cupon = input(\"¿Tienes un cupón de descuento? (si o no): \").strip().lower()\n",
    "    if tiene_cupon == \"si\":\n",
    "        valor_cupon = float(input(\"Ingresa el valor del cupón de descuento: \"))\n",
    "        if valor_cupon > 0:\n",
    "            nuevo_precio = precio_original - valor_cupon\n",
    "        else:\n",
    "            nuevo_precio = precio_original\n",
    "    else:\n",
    "        nuevo_precio = precio_original\n",
    "    compra_total += nuevo_precio\n",
    "    continuar = input(\"¿Desea continuar comprando? (si o no)\").strip().lower()\n",
    "compra_descuento = compra_total\n",
    "if compra_total <100:\n",
    "    compra_descuento = compra_total - 0\n",
    "elif 100 <= compra_total < 200:\n",
    "    compra_descuento = compra_total - (compra_total * 0.05)\n",
    "elif 200 <= compra_total <= 500:\n",
    "    compra_descuento = compra_total - (compra_total * 0.1)\n",
    "else:\n",
    "    compra_descuento = compra_total - (compra_total * 0.15)\n",
    "print (f\"El total de su compra asciende a {compra_descuento:.2f}€\")\n",
    "\n",
    "#Esta bien lo que pasa que el descuento por volumen de compra se aplica sobre la cantidad que ya cuenta con descuentos anteriores si los hay haciendo que si la\n",
    "# cantidad era 120€ se aplica un descuento de 40€ como la compra se quedaría en 80<100 no se aplicaría el descuento de volumen"
   ]
  },
  {
   "cell_type": "markdown",
   "metadata": {},
   "source": [
    "Crea un nuevo programa  que ofrezca un descuento adicional del 3% si el usuario paga con tarjeta de crédito o débito. Solicita al usuario que ingrese el método de pago y el descuento original, por último aplica el descuento si corresponde."
   ]
  },
  {
   "cell_type": "code",
   "execution_count": 50,
   "metadata": {},
   "outputs": [
    {
     "name": "stdout",
     "output_type": "stream",
     "text": [
      "El total final después de aplicar todos los descuentos es: 67.90€\n"
     ]
    }
   ],
   "source": [
    "def aplicar_descuento(total, descuento):\n",
    "    return total - (total * descuento)\n",
    "def main():\n",
    "    precio_total = float(input(\"Ingresa el precio del artículo: \"))\n",
    "    descuento_original = float(input(\"Ingresa el descuento original en porcentaje (por ejemplo, 10 para 10%): \")) / 100\n",
    "    total_con_descuento_original = aplicar_descuento(precio_total, descuento_original)\n",
    "    metodo_pago = input(\"¿Cómo vas a pagar? (efectivo, tarjeta de crédito, tarjeta de débito): \").strip().lower()\n",
    "    descuento_adicional = 0\n",
    "    if metodo_pago in [\"tarjeta de crédito\", \"tarjeta de débito\"]:\n",
    "        descuento_adicional = 0.03  \n",
    "    total_final = aplicar_descuento(total_con_descuento_original, descuento_adicional)\n",
    "    print(f\"El total final después de aplicar todos los descuentos es: {total_final:.2f}€\")\n",
    "main()\n"
   ]
  }
 ],
 "metadata": {
  "kernelspec": {
   "display_name": "hackio",
   "language": "python",
   "name": "python3"
  },
  "language_info": {
   "codemirror_mode": {
    "name": "ipython",
    "version": 3
   },
   "file_extension": ".py",
   "mimetype": "text/x-python",
   "name": "python",
   "nbconvert_exporter": "python",
   "pygments_lexer": "ipython3",
   "version": "3.11.9"
  }
 },
 "nbformat": 4,
 "nbformat_minor": 2
}
