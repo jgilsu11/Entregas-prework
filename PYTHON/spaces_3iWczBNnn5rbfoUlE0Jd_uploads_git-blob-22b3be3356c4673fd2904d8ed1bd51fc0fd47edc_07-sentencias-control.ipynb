{
 "cells": [
  {
   "cell_type": "markdown",
   "metadata": {},
   "source": [
    "<div style=\"text-align: center;\">\n",
    "  <img src=\"https://github.com/Hack-io-Data/Imagenes/blob/main/01-LogosHackio/logo_celeste@4x.png?raw=true\" alt=\"logo hack(io)\" />\n",
    "</div>"
   ]
  },
  {
   "cell_type": "markdown",
   "metadata": {},
   "source": [
    "#### 1. Escribe un programa que determine si un número es par o impar.\n",
    "\n"
   ]
  },
  {
   "cell_type": "code",
   "execution_count": 3,
   "metadata": {},
   "outputs": [
    {
     "name": "stdout",
     "output_type": "stream",
     "text": [
      "El número 4 es par.\n"
     ]
    }
   ],
   "source": [
    "numero = int(input(\"Introduce un número: \"))\n",
    "if numero % 2 == 0:\n",
    "    print(f\"El número {numero} es par.\")\n",
    "else:\n",
    "    print(f\"El número {numero} es impar.\")\n"
   ]
  },
  {
   "cell_type": "markdown",
   "metadata": {},
   "source": [
    "#### 2. Genera un programa que nos diga si es de noche, de día o tarde según la hora proporcionada por el usuario."
   ]
  },
  {
   "cell_type": "code",
   "execution_count": 7,
   "metadata": {},
   "outputs": [
    {
     "name": "stdout",
     "output_type": "stream",
     "text": [
      "Es de tarde.\n"
     ]
    }
   ],
   "source": [
    "hora = int(input(\"Introduce la hora del día (en formato de 24 horas, 0-23): \"))\n",
    "if 0 <= hora < 24:\n",
    "    # Determina si es de noche, de día o tarde\n",
    "    if 6 <= hora <= 12:\n",
    "        print(\"Es de mañana.\")\n",
    "    elif 12 < hora <= 20:\n",
    "        print(\"Es de tarde.\")\n",
    "    else:\n",
    "        print(\"Es de noche.\")\n",
    "else:\n",
    "    print(\"Hora inválida. Por favor, ingresa una hora entre 0 y 23.\")"
   ]
  },
  {
   "cell_type": "markdown",
   "metadata": {},
   "source": [
    "#### 3. Dado un nombre imprime un saludo personalizado."
   ]
  },
  {
   "cell_type": "code",
   "execution_count": 10,
   "metadata": {},
   "outputs": [
    {
     "name": "stdout",
     "output_type": "stream",
     "text": [
      "Tu no eres bienvenida aquí Paula\n"
     ]
    }
   ],
   "source": [
    "nombre = input(\"Introduce un nombre aquí: \")\n",
    "if nombre == \"Paula\":\n",
    "    print (f\"Tu no eres bienvenida aquí {nombre}\")\n",
    "else:\n",
    "    print (f\"Bienvenido a la fiesta {nombre} \")\n"
   ]
  },
  {
   "cell_type": "markdown",
   "metadata": {},
   "source": [
    "#### 4. Escribe un programa que determine qué calificación en texto tiene un alumno en base a su calificación numérica. Las reglas de calificación son: \n",
    "\n",
    "- 0 - 69 insuficiente\n",
    "\n",
    "- 70 - 79 bien\n",
    "\n",
    "- 80 - 89 muy bien\n",
    "\n",
    "- 90 - 100 excelente\n"
   ]
  },
  {
   "cell_type": "code",
   "execution_count": 18,
   "metadata": {},
   "outputs": [
    {
     "name": "stdout",
     "output_type": "stream",
     "text": [
      "49\n",
      "Lo siento, tienes un Insuficiente\n"
     ]
    }
   ],
   "source": [
    "calificación = int(input(\"Ingresa tu puntuación aquí: \"))\n",
    "print (calificación)\n",
    "if 0 <= calificación < 101:\n",
    "    if 0 <= calificación < 70:\n",
    "        print (\"Lo siento, tienes un Insuficiente\")\n",
    "    elif 70 <= calificación < 80:\n",
    "        print ( \"Has obtenido un Bien\")\n",
    "    elif 80 <= calificación < 90:\n",
    "        print (\"Felicidades has obtenido un Muy Bien\")\n",
    "    else:\n",
    "        print (\"Excelente!!\")\n",
    "else:\n",
    "    print (\"La puntuación introducida no es válida, prueba otra vez.\")\n",
    "    \n",
    "    "
   ]
  },
  {
   "cell_type": "markdown",
   "metadata": {},
   "source": [
    "#### 5. Escribe un programa que imprima el día de la semana, dado un número del 1 al 7.\n"
   ]
  },
  {
   "cell_type": "code",
   "execution_count": 20,
   "metadata": {},
   "outputs": [
    {
     "name": "stdout",
     "output_type": "stream",
     "text": [
      "Martes\n"
     ]
    }
   ],
   "source": [
    "dia = int(input(\"Introduce un día de la semana en formato 1-7: \"))\n",
    "if 1 <= dia < 8:\n",
    "    if dia == 1:\n",
    "        print (\"Lunes\")\n",
    "    elif dia == 2:\n",
    "        print (\"Martes\")\n",
    "    elif dia == 3:\n",
    "        print (\"Miercoles\")\n",
    "    elif dia ==4:\n",
    "        print (\"Jueves\")\n",
    "    elif dia == 5:\n",
    "        print (\"Viernes\")\n",
    "    elif dia == 6:\n",
    "        print (\"Sabado\")\n",
    "    else:\n",
    "        print (\"Domingo\")\n",
    "else:\n",
    "    print (\"El número no es válido\")"
   ]
  },
  {
   "cell_type": "markdown",
   "metadata": {},
   "source": [
    "#### 6. Escribe un programa que determine si un número es positivo, negativo o cero."
   ]
  },
  {
   "cell_type": "code",
   "execution_count": 23,
   "metadata": {},
   "outputs": [
    {
     "name": "stdout",
     "output_type": "stream",
     "text": [
      "-3\n",
      "Número negativo\n"
     ]
    }
   ],
   "source": [
    "signo = int(input(\"Introduce un número\"))\n",
    "print (signo)\n",
    "if signo < 0:\n",
    "    print (\"Número negativo\")\n",
    "elif signo == 0:\n",
    "    print (\"El número es 0\")\n",
    "else:\n",
    "    print (\"Número positivo\")"
   ]
  },
  {
   "cell_type": "markdown",
   "metadata": {},
   "source": [
    "#### 7. Escribe un programa que determine si una persona puede conducir o no. La edad mínima para conducir es 18 años. \n"
   ]
  },
  {
   "cell_type": "code",
   "execution_count": 26,
   "metadata": {},
   "outputs": [
    {
     "name": "stdout",
     "output_type": "stream",
     "text": [
      "87\n",
      "Está en edad de conducir\n"
     ]
    }
   ],
   "source": [
    "edad = int(input(\"Introduce tu edad\"))\n",
    "print (edad)\n",
    "if edad >= 18:\n",
    "    print (\"Está en edad de conducir\")\n",
    "else:\n",
    "    print (\"Aún no puede conducir\")\n"
   ]
  },
  {
   "cell_type": "markdown",
   "metadata": {},
   "source": [
    "#### 8. Escribe un programa que determine si un estudiante aprobó o suspendió un examen."
   ]
  },
  {
   "cell_type": "code",
   "execution_count": 30,
   "metadata": {},
   "outputs": [
    {
     "name": "stdout",
     "output_type": "stream",
     "text": [
      "Esta vez te salvas de recuperar porque has sacado un 6. SIGUE ASI!!\n"
     ]
    }
   ],
   "source": [
    "nota = int(input(\"Introduce tu nota: \"))\n",
    "if 0 <= nota <11:\n",
    "    if nota < 5:\n",
    "        print (f\"Te toca recuperar chavalin porque has sacado un {nota}\")\n",
    "    else:print (f\"Esta vez te salvas de recuperar porque has sacado un {nota}. SIGUE ASI!!\")\n",
    "else:\n",
    "    print (f\"La nota introducida no es válida\")\n",
    "\n"
   ]
  },
  {
   "cell_type": "markdown",
   "metadata": {},
   "source": [
    "#### 9. Escribe un programa que determine si un número es múltiplo de 3 y 5.\n"
   ]
  },
  {
   "cell_type": "code",
   "execution_count": 32,
   "metadata": {},
   "outputs": [
    {
     "name": "stdout",
     "output_type": "stream",
     "text": [
      "El número 15 es múltiplo de 3 y 5.\n"
     ]
    }
   ],
   "source": [
    "numero = int(input(\"Introduce un número: \"))\n",
    "if numero % 3 == 0 and numero % 5 == 0:\n",
    "    print(f\"El número {numero} es múltiplo de 3 y 5.\")\n",
    "elif numero % 3 == 0:\n",
    "    print(f\"El número {numero} es múltiplo de 3.\")\n",
    "elif numero % 5 == 0:\n",
    "    print(f\"El número {numero} es múltiplo de 5.\")\n",
    "else:\n",
    "    print(f\"El número {numero} no es múltiplo de 3 ni de 5.\")"
   ]
  },
  {
   "cell_type": "markdown",
   "metadata": {},
   "source": [
    "#### 10. Escribe un programa que determine si un número es par o impar.\n"
   ]
  },
  {
   "cell_type": "code",
   "execution_count": 35,
   "metadata": {},
   "outputs": [
    {
     "name": "stdout",
     "output_type": "stream",
     "text": [
      "El número 18 es par\n"
     ]
    }
   ],
   "source": [
    "numero = int(input(\"Introduce un número para saber si es par o impar: \"))\n",
    "if numero % 2 == 0:\n",
    "    print (f\"El número {numero} es par\")\n",
    "else:\n",
    "    print (f\"El número {numero} es impar\")"
   ]
  },
  {
   "cell_type": "markdown",
   "metadata": {},
   "source": [
    "#### 11. Utiliza un bucle while para saber cuantos años están por debajo de la edad de conducir"
   ]
  },
  {
   "cell_type": "code",
   "execution_count": 38,
   "metadata": {},
   "outputs": [
    {
     "name": "stdout",
     "output_type": "stream",
     "text": [
      "Año 1: Falta para conducir: 2 años\n",
      "Año 2: Falta para conducir: 1 años\n",
      "Año 3: Falta para conducir: 0 años\n",
      "Te faltan 3 años para poder conducir.\n"
     ]
    }
   ],
   "source": [
    "edad_minima = 18\n",
    "edad_actual = int(input(\"Introduce tu edad actual: \"))\n",
    "if edad_actual < edad_minima:\n",
    "    años_faltantes = edad_minima - edad_actual\n",
    "    años = 0\n",
    "    while años < años_faltantes:\n",
    "        años += 1\n",
    "        print(f\"Año {años}: Falta para conducir: {años_faltantes - años} años\")\n",
    "    print(f\"Te faltan {años_faltantes} años para poder conducir.\")\n",
    "else:\n",
    "    print(\"Ya puedes conducir.\")"
   ]
  }
 ],
 "metadata": {
  "kernelspec": {
   "display_name": "hackio",
   "language": "python",
   "name": "python3"
  },
  "language_info": {
   "codemirror_mode": {
    "name": "ipython",
    "version": 3
   },
   "file_extension": ".py",
   "mimetype": "text/x-python",
   "name": "python",
   "nbconvert_exporter": "python",
   "pygments_lexer": "ipython3",
   "version": "3.11.9"
  }
 },
 "nbformat": 4,
 "nbformat_minor": 2
}
