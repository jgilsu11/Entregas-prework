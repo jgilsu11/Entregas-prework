{
 "cells": [
  {
   "cell_type": "markdown",
   "metadata": {},
   "source": [
    "\n",
    "<div style=\"text-align: center;\">\n",
    "  <img src=\"https://github.com/Hack-io-Data/Imagenes/blob/main/01-LogosHackio/logo_celeste@4x.png?raw=true\" alt=\"esquema\" />\n",
    "</div>"
   ]
  },
  {
   "cell_type": "markdown",
   "metadata": {},
   "source": [
    "#### 1. Escribe una función sin parámetros que imprima el siguiente mensaje \"¡Hola! Bienvenido.\"\n"
   ]
  },
  {
   "cell_type": "code",
   "execution_count": 1,
   "metadata": {},
   "outputs": [
    {
     "name": "stdout",
     "output_type": "stream",
     "text": [
      "¡Hola! Bienvenido.\n"
     ]
    }
   ],
   "source": [
    "def saludo ():\n",
    "    print (\"¡Hola! Bienvenido.\")\n",
    "\n",
    "saludo()\n",
    "\n"
   ]
  },
  {
   "cell_type": "markdown",
   "metadata": {},
   "source": [
    "#### 2. Escribe una función que reciba dos parámetros y devuelva la suma de ambos.\n"
   ]
  },
  {
   "cell_type": "code",
   "execution_count": 4,
   "metadata": {},
   "outputs": [
    {
     "name": "stdout",
     "output_type": "stream",
     "text": [
      "La suma es: 8\n"
     ]
    }
   ],
   "source": [
    "def sumar(a, b):\n",
    "    return a + b\n",
    "resultado = sumar(5, 3)\n",
    "print(\"La suma es:\", resultado)\n"
   ]
  },
  {
   "cell_type": "markdown",
   "metadata": {},
   "source": [
    "#### 3. Escribe una función que reciba un número y devuelva True si es par, False si no lo es."
   ]
  },
  {
   "cell_type": "code",
   "execution_count": 9,
   "metadata": {},
   "outputs": [
    {
     "name": "stdout",
     "output_type": "stream",
     "text": [
      "¿El número 4 es par?: True\n",
      "¿El número 7 es par?: False\n"
     ]
    }
   ],
   "source": [
    "\n",
    "def par(numero):\n",
    "    return numero % 2 == 0\n",
    "\n",
    "numero = 4\n",
    "print(f\"¿El número {numero} es par?: {par(numero)}\")\n",
    "numero = 7\n",
    "print(f\"¿El número {numero} es par?: {par(numero)}\")\n",
    "\n"
   ]
  },
  {
   "cell_type": "markdown",
   "metadata": {},
   "source": [
    "#### 4. Escribe un función que devuelva un saludo personalizado a una persona dado su nombre. \n"
   ]
  },
  {
   "cell_type": "code",
   "execution_count": 11,
   "metadata": {},
   "outputs": [
    {
     "data": {
      "text/plain": [
       "'Hola Jaime qué tal estás?'"
      ]
     },
     "execution_count": 11,
     "metadata": {},
     "output_type": "execute_result"
    }
   ],
   "source": [
    "def saludo (a):\n",
    "    return f\"Hola {a} qué tal estás?\"\n",
    "\n",
    "saludo (\"Jaime\")"
   ]
  },
  {
   "cell_type": "markdown",
   "metadata": {},
   "source": [
    "#### 5. Escribe una función que sume todos los números que reciba como argumento. La función debe recibir una cantidad variable de argumentos y devolver la suma de todos ellos."
   ]
  },
  {
   "cell_type": "code",
   "execution_count": 15,
   "metadata": {},
   "outputs": [
    {
     "name": "stdout",
     "output_type": "stream",
     "text": [
      "15\n",
      "20\n"
     ]
    }
   ],
   "source": [
    "def sumar_todos (*args):\n",
    "    return sum(args)\n",
    "\n",
    "print (sumar_todos (1,2,3,4,5))\n",
    "print (sumar_todos (1,2,3,4,5,5))\n",
    "    "
   ]
  },
  {
   "cell_type": "markdown",
   "metadata": {},
   "source": [
    "#### 6. Escribe una función que cuente las letras de una palabra y devuelva un diccionario con la cantidad de veces que se repite cada letra \n"
   ]
  },
  {
   "cell_type": "code",
   "execution_count": 18,
   "metadata": {},
   "outputs": [
    {
     "data": {
      "text/plain": [
       "{'h': 1, 'a': 2, 'b': 1, 'i': 2, 't': 1, 'c': 1, 'o': 1, 'n': 1}"
      ]
     },
     "execution_count": 18,
     "metadata": {},
     "output_type": "execute_result"
    }
   ],
   "source": [
    "def frecuencia (palabra):\n",
    "    conteo = {}\n",
    "    for letra in palabra:\n",
    "        letra = letra.lower()\n",
    "        if letra in conteo:\n",
    "            conteo[letra] += 1\n",
    "        else:\n",
    "            conteo[letra] = 1\n",
    "    return conteo\n",
    "\n",
    "\n",
    "frecuencia (\"habitacion\") \n",
    "\n",
    "# También se puede poner con variables:\n",
    "palabra = \"habitacion\"\n",
    "resultado = frecuencia(palabra)\n",
    "print(resultado)\n"
   ]
  },
  {
   "cell_type": "markdown",
   "metadata": {},
   "source": [
    "#### 7. Escribe un función recursiva para calcular el factorial de un número entero no negativo."
   ]
  },
  {
   "cell_type": "code",
   "execution_count": 19,
   "metadata": {},
   "outputs": [
    {
     "name": "stdout",
     "output_type": "stream",
     "text": [
      "El factorial de 5 es: 120\n"
     ]
    }
   ],
   "source": [
    "def factorial(n):\n",
    "    # Caso base: el factorial de 0 o 1 es 1\n",
    "    if n == 0 or n == 1:\n",
    "        return 1\n",
    "    # Caso recursivo: n * factorial(n - 1)\n",
    "    else:\n",
    "        return n * factorial(n - 1)\n",
    "\n",
    "# Ejemplo de uso de la función\n",
    "numero = 5\n",
    "resultado = factorial(numero)\n",
    "print(f\"El factorial de {numero} es: {resultado}\")\n",
    "\n",
    "# Lo he sacado de chat porque no entiendo ni lo de recursivo ni el factorial\n"
   ]
  },
  {
   "cell_type": "markdown",
   "metadata": {},
   "source": [
    "#### 8. Escribe una función que tome dos parámetros: `figura` (una cadena que puede ser `\"rectangulo\"`, `\"circulo\"` o `\"triangulo\"`) y `datos` (una tupla con los datos necesarios para calcular el área de la figura). "
   ]
  },
  {
   "cell_type": "code",
   "execution_count": 24,
   "metadata": {},
   "outputs": [
    {
     "name": "stdout",
     "output_type": "stream",
     "text": [
      "Área del rectángulo (4, 5): 20\n",
      "Área del círculo (3): 28.274333882308138\n",
      "Área del triángulo (4, 7): 14.0\n"
     ]
    }
   ],
   "source": [
    "import math\n",
    "\n",
    "def calcular_area(figura, datos):\n",
    "    # Convertir la cadena de figura a minúsculas para manejar casos de entrada de diferentes formatos\n",
    "    figura = figura.lower()\n",
    "    \n",
    "    if figura == \"rectangulo\":\n",
    "        if len(datos) != 2:\n",
    "            raise ValueError(\"Se requieren 2 datos para el rectángulo: ancho y alto.\")\n",
    "        ancho, alto = datos\n",
    "        return ancho * alto\n",
    "    \n",
    "    elif figura == \"circulo\":\n",
    "        if len(datos) != 1:\n",
    "            raise ValueError(\"Se requiere 1 dato para el círculo: radio.\")\n",
    "        radio, = datos\n",
    "        return math.pi * radio ** 2\n",
    "    \n",
    "    elif figura == \"triangulo\":\n",
    "        if len(datos) != 2:\n",
    "            raise ValueError(\"Se requieren 2 datos para el triángulo: base y altura.\")\n",
    "        base, altura = datos\n",
    "        return (base * altura)/2\n",
    "    \n",
    "    else:\n",
    "        raise ValueError(\"Figura no reconocida. Las opciones son: 'rectangulo', 'circulo' o 'triangulo'.\")\n",
    "\n",
    "# Ejemplos de uso de la función\n",
    "print(\"Área del rectángulo (4, 5):\", calcular_area(\"rectangulo\", (4, 5)))\n",
    "print(\"Área del círculo (3):\", calcular_area(\"circulo\", (3,)))\n",
    "print(\"Área del triángulo (4, 7):\", calcular_area(\"triangulo\", (4, 7)))\n",
    "\n",
    "# He usado Chat para la parte de math y ValueError"
   ]
  },
  {
   "cell_type": "markdown",
   "metadata": {},
   "source": [
    "#### 9. Escribe una función que tome una lista de números como parámetro y devuelva el número más grande de la lista. No utilices la función `max()` de Python en tu solución."
   ]
  },
  {
   "cell_type": "code",
   "execution_count": 28,
   "metadata": {},
   "outputs": [
    {
     "name": "stdout",
     "output_type": "stream",
     "text": [
      "El número más grande en la lista es: 89\n"
     ]
    },
    {
     "data": {
      "text/plain": [
       "89"
      ]
     },
     "execution_count": 28,
     "metadata": {},
     "output_type": "execute_result"
    }
   ],
   "source": [
    "def maximos(lista):\n",
    "    maximo = lista[0]\n",
    "    for numero in lista:\n",
    "        if numero > maximo:\n",
    "            maximo = numero\n",
    "    return maximo\n",
    "\n",
    "# Ejemplo de uso de la función\n",
    "numeros = [10, 34, 67, 23, 89, 45]\n",
    "resultado = maximos(numeros)\n",
    "print(f\"El número más grande en la lista es: {resultado}\")\n",
    "\n",
    "# Tambien se puede poner directamente:\n",
    "maximos (numeros)\n"
   ]
  },
  {
   "cell_type": "markdown",
   "metadata": {},
   "source": [
    "#### 10. Escribe una función que tome una cadena como parámetro un texto y devuelva `True` si la cadena es un palíndromo (se lee igual de izquierda a derecha que de derecha a izquierda), y `False` en caso contrario. Ignora los espacios y considera mayúsculas y minúsculas de manera insensible.\n"
   ]
  },
  {
   "cell_type": "code",
   "execution_count": 29,
   "metadata": {},
   "outputs": [
    {
     "name": "stdout",
     "output_type": "stream",
     "text": [
      "True\n",
      "False\n",
      "True\n"
     ]
    }
   ],
   "source": [
    "def es_palindromo(texto):\n",
    "    # Normalizar la cadena: eliminar espacios y convertir a minúsculas\n",
    "    texto_normalizado = texto.replace(\" \", \"\").lower()\n",
    "    \n",
    "    # Comparar la cadena normalizada con su reverso\n",
    "    return texto_normalizado == texto_normalizado[::-1]\n",
    "\n",
    "# Ejemplos de uso de la función\n",
    "print(es_palindromo(\"A man a plan a canal Panama\"))  # True\n",
    "print(es_palindromo(\"Hello World\"))  # False\n",
    "print(es_palindromo(\"radar\"))  # True\n",
    "\n",
    "# Utilicé Chat para el reverso\n"
   ]
  },
  {
   "cell_type": "markdown",
   "metadata": {},
   "source": [
    "#### 11. Escribe una función que tome una cadena como parámetro y devuelva dos valores: la cantidad de vocales y la cantidad de consonantes presentes en la cadena. Ignora los espacios y considera mayúsculas y minúsculas de manera insensible.\n"
   ]
  },
  {
   "cell_type": "code",
   "execution_count": 30,
   "metadata": {},
   "outputs": [
    {
     "name": "stdout",
     "output_type": "stream",
     "text": [
      "Vocales: 4, Consonantes: 5\n"
     ]
    }
   ],
   "source": [
    "def contar_vocales_y_consonantes(cadena):\n",
    "    cadena = cadena.lower()\n",
    "    vocales = \"aeiou\"\n",
    "    contador_vocales = 0\n",
    "    contador_consonantes = 0\n",
    "    for caracter in cadena:\n",
    "        if caracter in vocales:\n",
    "            contador_vocales += 1\n",
    "        elif caracter.isalpha():\n",
    "            contador_consonantes += 1\n",
    "    return contador_vocales, contador_consonantes\n",
    "\n",
    "cadena = \"Hola Mundo\"\n",
    "vocales, consonantes = contar_vocales_y_consonantes(cadena)\n",
    "print(f\"Vocales: {vocales}, Consonantes: {consonantes}\")"
   ]
  }
 ],
 "metadata": {
  "kernelspec": {
   "display_name": "hackio",
   "language": "python",
   "name": "python3"
  },
  "language_info": {
   "codemirror_mode": {
    "name": "ipython",
    "version": 3
   },
   "file_extension": ".py",
   "mimetype": "text/x-python",
   "name": "python",
   "nbconvert_exporter": "python",
   "pygments_lexer": "ipython3",
   "version": "3.11.9"
  }
 },
 "nbformat": 4,
 "nbformat_minor": 2
}
