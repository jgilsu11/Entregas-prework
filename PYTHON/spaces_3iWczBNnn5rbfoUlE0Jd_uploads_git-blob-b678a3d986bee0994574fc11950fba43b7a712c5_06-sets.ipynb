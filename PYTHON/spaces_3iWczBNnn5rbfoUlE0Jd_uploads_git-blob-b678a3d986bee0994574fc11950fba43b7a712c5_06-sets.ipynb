{
 "cells": [
  {
   "cell_type": "markdown",
   "metadata": {
    "vscode": {
     "languageId": "plaintext"
    }
   },
   "source": [
    "#### 1. Define un set vacío llamado `mi_set` y luego imprímelo."
   ]
  },
  {
   "cell_type": "code",
   "execution_count": 1,
   "metadata": {},
   "outputs": [
    {
     "name": "stdout",
     "output_type": "stream",
     "text": [
      "set()\n"
     ]
    }
   ],
   "source": [
    "mi_set = set()\n",
    "print (mi_set)"
   ]
  },
  {
   "cell_type": "markdown",
   "metadata": {},
   "source": [
    "#### 2. Añade los números `4`, `5` y `6` al set `mi_set`."
   ]
  },
  {
   "cell_type": "code",
   "execution_count": 2,
   "metadata": {},
   "outputs": [
    {
     "name": "stdout",
     "output_type": "stream",
     "text": [
      "{4, 5, 6}\n"
     ]
    }
   ],
   "source": [
    "mi_set.update([4,5,6])\n",
    "print (mi_set)"
   ]
  },
  {
   "cell_type": "markdown",
   "metadata": {},
   "source": [
    "#### 3. Crea un set llamado `colores` con los siguientes elementos: `\"rojo\"`, `\"verde\"`, `\"azul\"`, `\"amarillo\"`, `\"negro\"` `\"blanco\"`.\n"
   ]
  },
  {
   "cell_type": "code",
   "execution_count": 3,
   "metadata": {},
   "outputs": [
    {
     "name": "stdout",
     "output_type": "stream",
     "text": [
      "{'negro', 'rojo', 'blanco', 'amarillo', 'verde', 'azul'}\n"
     ]
    }
   ],
   "source": [
    "colores = {\"rojo\", \"verde\", \"azul\", \"amarillo\", \"negro\", \"blanco\"}\n",
    "print (colores)"
   ]
  },
  {
   "cell_type": "markdown",
   "metadata": {},
   "source": [
    "#### 4. Elimina el color 'rojo'  del set `colores`."
   ]
  },
  {
   "cell_type": "code",
   "execution_count": 4,
   "metadata": {},
   "outputs": [
    {
     "name": "stdout",
     "output_type": "stream",
     "text": [
      "{'negro', 'blanco', 'amarillo', 'verde', 'azul'}\n"
     ]
    }
   ],
   "source": [
    "colores.remove(\"rojo\")\n",
    "print (colores)"
   ]
  },
  {
   "cell_type": "markdown",
   "metadata": {},
   "source": [
    "#### 5. Verifica si el elemento `\"blanco\"` está presente en el set `colores`."
   ]
  },
  {
   "cell_type": "code",
   "execution_count": 5,
   "metadata": {},
   "outputs": [
    {
     "data": {
      "text/plain": [
       "True"
      ]
     },
     "execution_count": 5,
     "metadata": {},
     "output_type": "execute_result"
    }
   ],
   "source": [
    "\"blanco\" in colores"
   ]
  },
  {
   "cell_type": "markdown",
   "metadata": {},
   "source": [
    "#### 6. Crea un nuevo set que contenga todos los elementos de `set1` y `set2`, sin duplicados.\n",
    "\n",
    "```python\n",
    "set1 = {1, 2, 3}\n",
    "set2 = {3, 4, 5}\n",
    "```"
   ]
  },
  {
   "cell_type": "code",
   "execution_count": 6,
   "metadata": {},
   "outputs": [
    {
     "name": "stdout",
     "output_type": "stream",
     "text": [
      "{1, 2, 3, 4, 5}\n"
     ]
    }
   ],
   "source": [
    "set1 = {1, 2, 3}\n",
    "set2 = {3, 4, 5}\n",
    "set3 = set1.union(set2)\n",
    "print (set3)\n"
   ]
  },
  {
   "cell_type": "markdown",
   "metadata": {},
   "source": [
    "#### 7. Encuentra los elementos comunes entre `setA` y `setB`.\n",
    "\n",
    "```python\n",
    "setA = {1, 2, 3, 4}\n",
    "setB = {3, 4, 5, 6}\n",
    "```"
   ]
  },
  {
   "cell_type": "code",
   "execution_count": 7,
   "metadata": {},
   "outputs": [
    {
     "name": "stdout",
     "output_type": "stream",
     "text": [
      "{3, 4}\n"
     ]
    }
   ],
   "source": [
    "setA = {1, 2, 3, 4}\n",
    "setB = {3, 4, 5, 6}\n",
    "interseccion = setA & setB\n",
    "print (interseccion)"
   ]
  },
  {
   "cell_type": "markdown",
   "metadata": {},
   "source": [
    "#### 8. Encuentra los elementos en `setX` que no están en `setY`.\n",
    "\n",
    "```python\n",
    "setX = {1, 2, 3, 4}\n",
    "setY = {3, 4, 5, 6}\n",
    "```"
   ]
  },
  {
   "cell_type": "code",
   "execution_count": 10,
   "metadata": {},
   "outputs": [
    {
     "name": "stdout",
     "output_type": "stream",
     "text": [
      "{1, 2}\n",
      "{5, 6}\n"
     ]
    }
   ],
   "source": [
    "setX = {1, 2, 3, 4}\n",
    "setY = {3, 4, 5, 6}\n",
    "diferenciax = setX.difference(setY)\n",
    "print (diferenciax)\n",
    "# Si hubieran pedido las diferencias de sety q no estuvieran en setx habría que hacer:\n",
    "diferenciay = setY.difference(setX)\n",
    "print (diferenciay)"
   ]
  },
  {
   "cell_type": "markdown",
   "metadata": {},
   "source": [
    "#### 9. Encuentra los elementos que están en `setP` o `setQ`, pero no en ambos.\n",
    "\n",
    "```python\n",
    "setP = {1, 2, 3, 4}\n",
    "setQ = {3, 4, 5, 6}\n",
    "```"
   ]
  },
  {
   "cell_type": "code",
   "execution_count": 11,
   "metadata": {},
   "outputs": [
    {
     "name": "stdout",
     "output_type": "stream",
     "text": [
      "{1, 2, 5, 6}\n"
     ]
    }
   ],
   "source": [
    "setP = {1, 2, 3, 4}\n",
    "setQ = {3, 4, 5, 6}\n",
    "#Si nos hubieran pedido todas diferencias:\n",
    "diferenciasimetrica = setP.symmetric_difference(setQ)\n",
    "print (diferenciasimetrica)"
   ]
  },
  {
   "cell_type": "markdown",
   "metadata": {},
   "source": [
    "#### 10. Comprueba si `setA` es un subconjunto de `setB`.\n",
    "\n",
    "```python\n",
    "setA = {1, 2, 3}\n",
    "setB = {1, 2, 3, 4, 5}\n",
    "```"
   ]
  },
  {
   "cell_type": "code",
   "execution_count": 12,
   "metadata": {},
   "outputs": [
    {
     "name": "stdout",
     "output_type": "stream",
     "text": [
      "True\n"
     ]
    }
   ],
   "source": [
    "setA = {1, 2, 3}\n",
    "setB = {1, 2, 3, 4, 5}\n",
    "es_subconjunto = setA.issubset(setB)\n",
    "print (es_subconjunto)"
   ]
  },
  {
   "cell_type": "markdown",
   "metadata": {},
   "source": [
    "#### 11. Comprueba si `setM` y `setN` no tienen elementos en común.\n",
    "\n",
    "```python\n",
    "setM = {1, 2, 3}\n",
    "setN = {4, 5, 6}\n",
    "```"
   ]
  },
  {
   "cell_type": "code",
   "execution_count": 13,
   "metadata": {},
   "outputs": [
    {
     "name": "stdout",
     "output_type": "stream",
     "text": [
      "True\n"
     ]
    }
   ],
   "source": [
    "setM = {1, 2, 3}\n",
    "setN = {4, 5, 6}\n",
    "distintos = setM.isdisjoint(setN)\n",
    "print (distintos)"
   ]
  },
  {
   "cell_type": "markdown",
   "metadata": {},
   "source": [
    "#### 12. Vacía el set `conjunto` de manera que no contenga ningún elemento.\n",
    "\n",
    "```python\n",
    "conjunto = {1, 2, 3, 4, 5}\n",
    "```"
   ]
  },
  {
   "cell_type": "code",
   "execution_count": 14,
   "metadata": {},
   "outputs": [
    {
     "name": "stdout",
     "output_type": "stream",
     "text": [
      "set()\n"
     ]
    }
   ],
   "source": [
    "conjunto = {1, 2, 3, 4, 5}\n",
    "conjunto.clear()\n",
    "print (conjunto)"
   ]
  },
  {
   "cell_type": "markdown",
   "metadata": {},
   "source": [
    "#### 13. Crea un set llamado `numeros_set` que contenga los elementos de `lista_numeros`.\n",
    "\n",
    "```python\n",
    "lista_numeros = [1, 2, 3, 4, 5]\n",
    "```\n"
   ]
  },
  {
   "cell_type": "code",
   "execution_count": 16,
   "metadata": {},
   "outputs": [
    {
     "name": "stdout",
     "output_type": "stream",
     "text": [
      "{1, 2, 3, 4, 5}\n"
     ]
    }
   ],
   "source": [
    "lista_numeros = [1, 2, 3, 4, 5]\n",
    "numeros_set = set(lista_numeros)\n",
    "print (numeros_set)"
   ]
  },
  {
   "cell_type": "markdown",
   "metadata": {},
   "source": [
    "#### 14. Añade las letras `\"o\"` y `\"u\"` al set `vocales`.\n",
    "\n",
    "```python\n",
    "vocales = {\"a\", \"e\", \"i\"}\n",
    "```"
   ]
  },
  {
   "cell_type": "code",
   "execution_count": 17,
   "metadata": {},
   "outputs": [
    {
     "name": "stdout",
     "output_type": "stream",
     "text": [
      "{'a', 'o', 'e', 'i', 'u'}\n"
     ]
    }
   ],
   "source": [
    "vocales = {\"a\", \"e\", \"i\"}\n",
    "vocales.update(\"o\",\"u\")\n",
    "print (vocales)"
   ]
  },
  {
   "cell_type": "markdown",
   "metadata": {},
   "source": [
    "#### 15. Combina `setA` y `setB` utilizando el método `update` para modificar `setA` y agregar los elementos de `setB`.\n",
    "\n",
    "```python\n",
    "setA = {1, 2, 3}\n",
    "setB = {3, 4, 5}\n",
    "```"
   ]
  },
  {
   "cell_type": "code",
   "execution_count": 20,
   "metadata": {},
   "outputs": [
    {
     "name": "stdout",
     "output_type": "stream",
     "text": [
      "{1, 2, 3, 4, 5}\n"
     ]
    }
   ],
   "source": [
    "setA = {1, 2, 3}\n",
    "setB = {3, 4, 5}\n",
    "setA.update(setB)\n",
    "print (setA)"
   ]
  },
  {
   "cell_type": "markdown",
   "metadata": {},
   "source": [
    "#### 16. Elimina `\"conejo\"` del set `animales`.\n",
    "\n",
    "```python\n",
    "animales = {\"gato\", \"perro\", \"conejo\", \"ratón\"}\n",
    "```\n"
   ]
  },
  {
   "cell_type": "code",
   "execution_count": 21,
   "metadata": {},
   "outputs": [
    {
     "name": "stdout",
     "output_type": "stream",
     "text": [
      "{'perro', 'ratón', 'gato'}\n"
     ]
    }
   ],
   "source": [
    "animales = {\"gato\", \"perro\", \"conejo\", \"ratón\"}\n",
    "animales.remove(\"conejo\")\n",
    "print (animales)"
   ]
  },
  {
   "cell_type": "markdown",
   "metadata": {},
   "source": [
    "#### 17. Calcula cuántos elementos tiene el set `setX` e imprime el resultado.\n",
    "\n",
    "```python\n",
    "setX = {1, 2, 3, 4, 5}\n",
    "```"
   ]
  },
  {
   "cell_type": "code",
   "execution_count": 22,
   "metadata": {},
   "outputs": [
    {
     "name": "stdout",
     "output_type": "stream",
     "text": [
      "5\n"
     ]
    }
   ],
   "source": [
    "setX = {1, 2, 3, 4, 5}\n",
    "long = len(setX)\n",
    "print (long)"
   ]
  }
 ],
 "metadata": {
  "kernelspec": {
   "display_name": "hackio",
   "language": "python",
   "name": "python3"
  },
  "language_info": {
   "codemirror_mode": {
    "name": "ipython",
    "version": 3
   },
   "file_extension": ".py",
   "mimetype": "text/x-python",
   "name": "python",
   "nbconvert_exporter": "python",
   "pygments_lexer": "ipython3",
   "version": "3.11.9"
  }
 },
 "nbformat": 4,
 "nbformat_minor": 2
}
