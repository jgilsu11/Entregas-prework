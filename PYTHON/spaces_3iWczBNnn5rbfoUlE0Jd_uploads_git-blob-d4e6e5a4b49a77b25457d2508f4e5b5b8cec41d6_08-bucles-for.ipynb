{
 "cells": [
  {
   "cell_type": "markdown",
   "metadata": {},
   "source": [
    "<div style=\"text-align: center;\">\n",
    "  <img src=\"https://github.com/Hack-io-Data/Imagenes/blob/main/01-LogosHackio/logo_celeste@4x.png?raw=true\" alt=\"logo hack(io)\" />\n",
    "</div>"
   ]
  },
  {
   "cell_type": "markdown",
   "metadata": {},
   "source": [
    "####  1. Genera una lista de números del 0 al 4 y luego imprime cada número en la lista usando un `bucle for`. "
   ]
  },
  {
   "cell_type": "code",
   "execution_count": 1,
   "metadata": {},
   "outputs": [
    {
     "name": "stdout",
     "output_type": "stream",
     "text": [
      "0\n",
      "1\n",
      "2\n",
      "3\n",
      "4\n"
     ]
    }
   ],
   "source": [
    "numeros = list(range(5))\n",
    "for numero in numeros:\n",
    "    print(numero)\n"
   ]
  },
  {
   "cell_type": "markdown",
   "metadata": {},
   "source": [
    "#### 2. Itera sobre una lista de frutas y muestra cada fruta en mayúsculas. \n"
   ]
  },
  {
   "cell_type": "code",
   "execution_count": 2,
   "metadata": {},
   "outputs": [
    {
     "name": "stdout",
     "output_type": "stream",
     "text": [
      "MANZANA\n",
      "CEREZA\n",
      "MANGO\n",
      "PERA\n"
     ]
    }
   ],
   "source": [
    "frutas = [\"manzana\", \"cereza\", \"mango\", \"pera\"]\n",
    "for fruta in frutas:\n",
    "    print(fruta.upper())\n"
   ]
  },
  {
   "cell_type": "markdown",
   "metadata": {},
   "source": [
    "####  3. Genera un bucle while que imprima los números del 0 al 4. \n"
   ]
  },
  {
   "cell_type": "code",
   "execution_count": 3,
   "metadata": {},
   "outputs": [
    {
     "name": "stdout",
     "output_type": "stream",
     "text": [
      "0\n",
      "1\n",
      "2\n",
      "3\n",
      "Se ha llegado ya al 4\n"
     ]
    }
   ],
   "source": [
    "numero = 0\n",
    "while (numero) < 4:\n",
    "    print (numero)\n",
    "    numero += 1\n",
    "print (f\"Se ha llegado ya al {numero}\")"
   ]
  },
  {
   "cell_type": "markdown",
   "metadata": {},
   "source": [
    "#### 4. Genera un bucle del 0 al 9, pero que se detenga en el 5.\n"
   ]
  },
  {
   "cell_type": "code",
   "execution_count": 5,
   "metadata": {},
   "outputs": [
    {
     "name": "stdout",
     "output_type": "stream",
     "text": [
      "0\n",
      "1\n",
      "2\n",
      "3\n",
      "4\n",
      "Se ha llegado ya al 5\n"
     ]
    }
   ],
   "source": [
    "numero = 0\n",
    "while (numero) < 9:\n",
    "    if numero == 5:\n",
    "        break\n",
    "    else:\n",
    "        print (numero)\n",
    "        numero += 1\n",
    "print (f\"Se ha llegado ya al {numero}\")"
   ]
  },
  {
   "cell_type": "markdown",
   "metadata": {},
   "source": [
    "#### 5. Recorre los números del 0 al 9 e imprime solo los números impares."
   ]
  },
  {
   "cell_type": "code",
   "execution_count": 3,
   "metadata": {},
   "outputs": [
    {
     "name": "stdout",
     "output_type": "stream",
     "text": [
      "Este número es par\n",
      "1\n",
      "Este número es par\n",
      "3\n",
      "Este número es par\n",
      "5\n",
      "Este número es par\n",
      "7\n",
      "Este número es par\n",
      "Se ha llegado ya al 9\n"
     ]
    }
   ],
   "source": [
    "numero = 0\n",
    "while (numero) < 9:\n",
    "    if numero % 2 != 0:\n",
    "        print (numero)\n",
    "    else:\n",
    "        print (\"Este número es par\")\n",
    "    numero += 1\n",
    "print (f\"Se ha llegado ya al {numero}\")"
   ]
  },
  {
   "cell_type": "markdown",
   "metadata": {},
   "source": [
    "#### 6. Dada la lista `[10, 20, 30, 40, 50]`, calcula la suma de todos los elementos usando un bucle `for`."
   ]
  },
  {
   "cell_type": "code",
   "execution_count": 4,
   "metadata": {},
   "outputs": [
    {
     "name": "stdout",
     "output_type": "stream",
     "text": [
      "La suma total es: 150\n"
     ]
    }
   ],
   "source": [
    "numeros = [10, 20, 30, 40, 50]\n",
    "suma_total = 0\n",
    "for numero in numeros:\n",
    "    suma_total += numero\n",
    "print(\"La suma total es:\", suma_total)\n"
   ]
  },
  {
   "cell_type": "markdown",
   "metadata": {},
   "source": [
    "#### 7. Dada la cadena `\"Hola mundo\"`, cuenta cuántas veces aparecen las vocales (`a`, `e`, `i`, `o`, `u`) usando un bucle `for`.\n"
   ]
  },
  {
   "cell_type": "code",
   "execution_count": 8,
   "metadata": {},
   "outputs": [
    {
     "name": "stdout",
     "output_type": "stream",
     "text": [
      "4\n",
      "El número total de vocales es: 4\n"
     ]
    }
   ],
   "source": [
    "saludo = \"Hola mundo\"\n",
    "veces = 0\n",
    "for vocales in saludo:\n",
    "    veces = saludo.count(\"a\") + saludo.count(\"e\") + saludo.count(\"i\") + saludo.count(\"o\") + saludo.count(\"u\")\n",
    "print (veces)\n",
    "\n",
    "#Aunque creo que puede ser más correcto: \n",
    "\n",
    "cadena = \"Hola mundo\"\n",
    "contador_vocales = 0\n",
    "vocales = \"aeiouAEIOU\"\n",
    "for caracter in cadena:\n",
    "    if caracter in vocales:\n",
    "        contador_vocales += 1\n",
    "print(\"El número total de vocales es:\", contador_vocales)\n",
    "\n",
    "    "
   ]
  },
  {
   "cell_type": "markdown",
   "metadata": {},
   "source": [
    "#### 8. Dada la cadena `\"Python\"`, usa un bucle `for` para imprimir los caracteres en orden inverso (`n`, `o`, `h`, `t`, `y`, `P`).\n"
   ]
  },
  {
   "cell_type": "code",
   "execution_count": 11,
   "metadata": {},
   "outputs": [
    {
     "name": "stdout",
     "output_type": "stream",
     "text": [
      "n\n",
      "o\n",
      "h\n",
      "t\n",
      "y\n",
      "P\n"
     ]
    }
   ],
   "source": [
    "cadena = \"Python\"\n",
    "for caracter in reversed (cadena):\n",
    "    print (caracter)"
   ]
  },
  {
   "cell_type": "markdown",
   "metadata": {},
   "source": [
    "#### 9. Dada la lista `[1, 2, 3, 4, 5]`, multiplica todos sus elementos usando un bucle `for` y almacena los resultados en una lista nueva. \n"
   ]
  },
  {
   "cell_type": "code",
   "execution_count": 14,
   "metadata": {},
   "outputs": [
    {
     "name": "stdout",
     "output_type": "stream",
     "text": [
      "[2, 4, 6, 8, 10]\n"
     ]
    }
   ],
   "source": [
    "lista_numeros = [1, 2, 3, 4, 5]\n",
    "lista_multiplicada = []\n",
    "for numeros in lista_numeros:\n",
    "    resultado = numeros * 2\n",
    "    lista_multiplicada.append(resultado)\n",
    "print (lista_multiplicada)"
   ]
  },
  {
   "cell_type": "markdown",
   "metadata": {},
   "source": [
    "#### 10. Dada la lista `[1, 2, 3, 4, 5, 6, 7, 8, 9, 10]`, utiliza un bucle `for` para contar cuántos números son pares y cuántos son impares."
   ]
  },
  {
   "cell_type": "code",
   "execution_count": 16,
   "metadata": {},
   "outputs": [
    {
     "name": "stdout",
     "output_type": "stream",
     "text": [
      "El numero total de pares es 5 y de impares es 5\n"
     ]
    }
   ],
   "source": [
    "lista_numeros = [1, 2, 3, 4, 5, 6, 7, 8, 9, 10]\n",
    "contador_pares = 0\n",
    "contador_impares = 0\n",
    "for numeros in lista_numeros:\n",
    "    if numeros % 2 == 0:\n",
    "        contador_pares += 1\n",
    "    else:\n",
    "        contador_impares += 1\n",
    "print (f\"El numero total de pares es {contador_pares} y de impares es {contador_impares}\")\n",
    "\n"
   ]
  },
  {
   "cell_type": "markdown",
   "metadata": {},
   "source": [
    "#### 11. Escribe un programa que solicite al usuario un número entero positivo (`n`) y calcule la suma de todos los números primos menores o iguales a `n`. Utiliza un bucle `for` para iterar sobre cada número y verifica si es primo."
   ]
  },
  {
   "cell_type": "code",
   "execution_count": 20,
   "metadata": {},
   "outputs": [
    {
     "name": "stdout",
     "output_type": "stream",
     "text": [
      "La suma de todos los números primos menores o iguales a 3 es: 5\n"
     ]
    }
   ],
   "source": [
    "def es_primo(numero):\n",
    "    if numero < 2:\n",
    "        return False\n",
    "    for i in range(2, int(numero ** 0.5) + 1):\n",
    "        if numero % i == 0:\n",
    "            return False\n",
    "    return True\n",
    "n = int(input(\"Introduce un número entero positivo: \"))\n",
    "suma_primos = 0\n",
    "for num in range(2, n + 1):\n",
    "    if es_primo(num):\n",
    "        suma_primos += num\n",
    "print(f\"La suma de todos los números primos menores o iguales a {n} es: {suma_primos}\")\n",
    "\n",
    "#Lo he sacado de chatgpt y aún así hay varias cosas que no entiendo (principalmente la primera parte el uso de  nombres como i)\n"
   ]
  },
  {
   "cell_type": "markdown",
   "metadata": {},
   "source": [
    "#### 12. Escribe un programa que solicite al usuario un número entero positivo (`n`) y luego imprima un patrón de asteriscos como el siguiente ejemplo para `n = 5`:\n",
    "```\n",
    "*\n",
    "**\n",
    "***\n",
    "****\n",
    "*****\n",
    "```\n",
    "Utiliza un bucle `for` anidado para controlar la cantidad de asteriscos en cada línea."
   ]
  },
  {
   "cell_type": "code",
   "execution_count": 21,
   "metadata": {},
   "outputs": [
    {
     "name": "stdout",
     "output_type": "stream",
     "text": [
      "*\n",
      "**\n",
      "***\n",
      "****\n",
      "*****\n",
      "******\n"
     ]
    }
   ],
   "source": [
    "n = int(input(\"Introduce un número entero positivo: \"))\n",
    "for i in range(1, n + 1):\n",
    "    print('*' * i)\n"
   ]
  },
  {
   "cell_type": "markdown",
   "metadata": {},
   "source": [
    "#### 13. Dado un texto, utiliza un bucle `for` para contar cuántas veces aparece cada palabra en el texto. Ignora mayúsculas/minúsculas y los signos de puntuación."
   ]
  },
  {
   "cell_type": "code",
   "execution_count": 25,
   "metadata": {},
   "outputs": [
    {
     "name": "stdout",
     "output_type": "stream",
     "text": [
      "La palabra 'hola' aparece 2 veces.\n",
      "La palabra 'tengo' aparece 1 veces.\n",
      "La palabra 'amigos' aparece 1 veces.\n",
      "La palabra 'que' aparece 1 veces.\n",
      "La palabra 'no' aparece 1 veces.\n",
      "La palabra 'son' aparece 1 veces.\n",
      "La palabra 'capaces' aparece 1 veces.\n",
      "La palabra 'de' aparece 1 veces.\n",
      "La palabra 'decir' aparece 1 veces.\n"
     ]
    }
   ],
   "source": [
    "texto = \"hola tengo amigos que no son capaces de decir hola\"\n",
    "palabras = texto.split()\n",
    "contador_palabras = {}\n",
    "for palabra in palabras:\n",
    "    if palabra in contador_palabras:\n",
    "        contador_palabras[palabra] += 1\n",
    "    else:\n",
    "        contador_palabras[palabra] = 1\n",
    "\n",
    "# Esta parte la he sacado de chat y me despistaba la , que se ha añadido pero es porque es un par clave-valor\n",
    "for palabra, count in contador_palabras.items():\n",
    "    print(f\"La palabra '{palabra}' aparece {count} veces.\")"
   ]
  },
  {
   "cell_type": "markdown",
   "metadata": {},
   "source": [
    "#### 14. Escribe un programa que solicite al usuario dos números enteros positivos (`inicio` y `fin`, donde `inicio <= fin`) y luego calcule la suma de los números pares y la suma de los números impares en ese rango. Utiliza un bucle `for` para iterar sobre cada número y una estructura `if-else` para clasificar y sumar los números pares e impares."
   ]
  },
  {
   "cell_type": "code",
   "execution_count": 26,
   "metadata": {},
   "outputs": [
    {
     "name": "stdout",
     "output_type": "stream",
     "text": [
      "La suma de los números pares entre 10 y 20 es: 90\n",
      "La suma de los números impares entre 10 y 20 es: 75\n"
     ]
    }
   ],
   "source": [
    "inicio = int(input(\"escribe un inicio de rango que sea positivo y entero:\"))\n",
    "fin = int(input(\"escribe un fin de rango que sea positivo, entero y debe ser mayor o igual al inicio:\"))\n",
    "sumapares = 0\n",
    "sumaimpares = 0\n",
    "if inicio <= fin:\n",
    "    for numero in range(inicio, fin + 1):\n",
    "        if numero % 2 == 0:\n",
    "            sumapares += numero\n",
    "        else:\n",
    "            sumaimpares += numero\n",
    "    print(f\"La suma de los números pares entre {inicio} y {fin} es: {sumapares}\")\n",
    "    print(f\"La suma de los números impares entre {inicio} y {fin} es: {sumaimpares}\")\n",
    "else:\n",
    "    print (\"El rango proporcionando no es válido, prueba otra vez\")"
   ]
  },
  {
   "cell_type": "markdown",
   "metadata": {},
   "source": [
    "#### 15. Escribe un programa que solicite al usuario un número entero positivo (`n`) y luego identifique todos los números primos menores o iguales a `n`. Para cada número, imprime si es primo o no usando un bucle `for` y una estructura `if-else` para verificar la condición de primalidad."
   ]
  },
  {
   "cell_type": "code",
   "execution_count": null,
   "metadata": {},
   "outputs": [],
   "source": [
    "def es_primo(numero):\n",
    "    if numero < 2:\n",
    "        return False\n",
    "    for i in range(2, int(numero ** 0.5) + 1):\n",
    "        if numero % i == 0:\n",
    "            return False\n",
    "    return True\n",
    "n = int(input(\"Introduce un número entero positivo: \"))\n",
    "for num in range(2, n + 1):\n",
    "    if es_primo(num):\n",
    "        print(f\"El número {num} es primo.\")\n",
    "    else:\n",
    "        print(f\"El número {num} no es primo.\")\n",
    "#Este también lo he tenido que sacar de Chat porque se me complica la parte de verificar si es primo o no (de n para abajo no tengo problema)"
   ]
  },
  {
   "cell_type": "markdown",
   "metadata": {},
   "source": [
    "#### 16.Dada una lista de precios `[100, 200, 300, 400, 500]`, aplica un descuento del 10% a todos los precios mayores a `250`. Imprime la lista actualizada de precios después de aplicar el descuento utilizando un bucle `for`. "
   ]
  },
  {
   "cell_type": "code",
   "execution_count": 2,
   "metadata": {},
   "outputs": [
    {
     "name": "stdout",
     "output_type": "stream",
     "text": [
      "Lista de precios actualizada:\n",
      "100\n",
      "200\n",
      "270.0\n",
      "360.0\n",
      "450.0\n"
     ]
    }
   ],
   "source": [
    "\n",
    "precios = [100, 200, 300, 400, 500]\n",
    "lista_actualizada = []\n",
    "for precio in precios:\n",
    "    if precio > 250:\n",
    "        precio_actualizado = precio - (precio * 0,1)\n",
    "    else:\n",
    "        lista_actualizada.append(precio)\n",
    "lista_actualizada.append(precio_actualizado)\n",
    "\n",
    "# No entiendo porque lo de arriba está mal ni en la parte de Chat lo del rage(len(precios))\n",
    "for i in range(len(precios)):\n",
    "    if precios[i] > 250:\n",
    "        precios[i] -= precios[i] * 0.10 \n",
    "print(\"Lista de precios actualizada:\")\n",
    "for precio in precios:\n",
    "    print(precio)\n"
   ]
  },
  {
   "cell_type": "markdown",
   "metadata": {},
   "source": [
    "#### 17. Dada una lista de calificaciones de estudiantes `[85, 92, 78, 90, 88]`, clasifica a cada estudiante como \"Aprobado\" si la calificación es mayor o igual a `80` y como \"Reprobado\" si es menor a `80`. Imprime el nombre de cada estudiante junto con su estado utilizando un bucle `for` y una estructura `if-else`.\n"
   ]
  },
  {
   "cell_type": "code",
   "execution_count": 7,
   "metadata": {},
   "outputs": [
    {
     "name": "stdout",
     "output_type": "stream",
     "text": [
      "Estudiante 1: Calificación 85 - Aprobado\n",
      "Estudiante 2: Calificación 92 - Aprobado\n",
      "Estudiante 3: Calificación 78 - Reprobado\n",
      "Estudiante 4: Calificación 90 - Aprobado\n",
      "Estudiante 5: Calificación 88 - Aprobado\n"
     ]
    }
   ],
   "source": [
    "calificaciones = [85, 92, 78, 90, 88]\n",
    "for i, nota in enumerate(calificaciones):\n",
    "    if nota >= 80:\n",
    "        estado = \"Aprobado\"\n",
    "    else:\n",
    "        estado = \"Reprobado\"\n",
    "    print (f\"Estudiante {i+1}: Calificación {nota} - {estado}\")"
   ]
  },
  {
   "cell_type": "markdown",
   "metadata": {},
   "source": [
    "\n",
    "#### 18. Escribe un programa que solicite al usuario dos números enteros positivos (`inicio`, `fin`) y otro número entero positivo (`divisor`). Encuentra el número más grande en el rango desde `inicio` hasta `fin` que sea divisible por `divisor`. Utiliza un bucle `for` y una estructura `if-else` para verificar y mantener el registro del número más grande divisible por el divisor dado.\n"
   ]
  },
  {
   "cell_type": "code",
   "execution_count": 10,
   "metadata": {},
   "outputs": [
    {
     "name": "stdout",
     "output_type": "stream",
     "text": [
      "El número más grande en el rango de 10 a 21 que es divisible por 2 es: 20\n"
     ]
    }
   ],
   "source": [
    "inicio = int(input(\"escribe un inicio de rango que sea positivo y entero:\"))\n",
    "fin = int(input(\"escribe un fin de rango que sea positivo, entero y debe ser mayor o igual al inicio:\"))\n",
    "divisor = int(input(\"escribe otro número entero positivo: \"))\n",
    "if inicio <= 0 or fin <= 0 or divisor <= 0:\n",
    "    print(\"Todos los números deben ser enteros positivos.\")\n",
    "elif inicio > fin:\n",
    "    print(\"El número de inicio debe ser menor o igual al número de fin.\")\n",
    "else:\n",
    "    max_divisible = None\n",
    "\n",
    "    # Iterar sobre el rango desde inicio hasta fin\n",
    "    for numero in range(inicio, fin + 1):\n",
    "        if numero % divisor == 0:\n",
    "            if max_divisible is None or numero > max_divisible:\n",
    "                max_divisible = numero\n",
    "\n",
    "    # Imprimir el resultado\n",
    "    if max_divisible is not None:\n",
    "        print(f\"El número más grande en el rango de {inicio} a {fin} que es divisible por {divisor} es: {max_divisible}\")\n",
    "    else:\n",
    "        print(f\"No hay números en el rango de {inicio} a {fin} que sean divisibles por {divisor}.\")\n",
    "\n",
    "# De este entiendo todo menos el None (max_divisible) que es lo q yo estaba haciendo diferente a chat"
   ]
  }
 ],
 "metadata": {
  "kernelspec": {
   "display_name": "hackio",
   "language": "python",
   "name": "python3"
  },
  "language_info": {
   "codemirror_mode": {
    "name": "ipython",
    "version": 3
   },
   "file_extension": ".py",
   "mimetype": "text/x-python",
   "name": "python",
   "nbconvert_exporter": "python",
   "pygments_lexer": "ipython3",
   "version": "3.11.9"
  }
 },
 "nbformat": 4,
 "nbformat_minor": 2
}
